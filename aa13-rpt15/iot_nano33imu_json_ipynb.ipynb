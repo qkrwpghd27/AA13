{
  "nbformat": 4,
  "nbformat_minor": 0,
  "metadata": {
    "colab": {
      "provenance": []
    },
    "kernelspec": {
      "display_name": "Python 3",
      "name": "python3"
    },
    "language_info": {
      "codemirror_mode": {
        "name": "ipython",
        "version": 3
      },
      "file_extension": ".py",
      "mimetype": "text/x-python",
      "name": "python",
      "nbconvert_exporter": "python",
      "pygments_lexer": "ipython3",
      "version": "3.8.5"
    }
  },
  "cells": [
    {
      "cell_type": "markdown",
      "metadata": {
        "id": "oYht3IoGwlyU"
      },
      "source": [
        "## Pandas: access to the remote json from MongoDB\n",
        "- The json file is generated on the fly from the express server of Node.js.\n",
        "- The data stored in MongoDB are saved in the json file.\n",
        "- The IMU data are composed of nine time series; acceleration, gyroscope, and magnetic field.\n"
      ]
    },
    {
      "cell_type": "code",
      "metadata": {
        "id": "GYezm0oWwlyW"
      },
      "source": [
        "import pandas as pd\n",
        "import numpy as np\n",
        "import matplotlib.pyplot as plt\n",
        "# from matplotlib import animation, rc"
      ],
      "execution_count": 1,
      "outputs": []
    },
    {
      "cell_type": "markdown",
      "metadata": {
        "id": "1xQdk1RkeFpY"
      },
      "source": [
        "## [실시간 데이터 로드]\n",
        "- loading real-time json file from MongoDB via web\n",
        "\n",
        "- http://life21c.inje.ac.kr:3030/client_33imu_gauge.html"
      ]
    },
    {
      "cell_type": "code",
      "metadata": {
        "id": "jguBydRLwlyc",
        "colab": {
          "base_uri": "https://localhost:8080/"
        },
        "outputId": "38a25e01-f792-4f00-ffb4-b812ca87a0ac"
      },
      "source": [
        "# loading real-time json file from MongoDB via web (CORS, port=3030)\n",
        "url=\"http://life21c.inje.ac.kr:3030/iot\"\n",
        "df=pd.read_json(url)\n",
        "print('Large IoT data was retrieved successfully from MongoDB!')"
      ],
      "execution_count": 2,
      "outputs": [
        {
          "output_type": "stream",
          "name": "stdout",
          "text": [
            "Large IoT data was retrieved successfully from MongoDB!\n"
          ]
        }
      ]
    },
    {
      "cell_type": "code",
      "source": [
        "df.head()"
      ],
      "metadata": {
        "id": "NzUlB5YECVfm",
        "outputId": "8e59fc13-920e-4327-a83c-61c4377f1e51",
        "colab": {
          "base_uri": "https://localhost:8080/",
          "height": 206
        }
      },
      "execution_count": 3,
      "outputs": [
        {
          "output_type": "execute_result",
          "data": {
            "text/plain": [
              "                        _id                    date  accel_x  accel_y  \\\n",
              "0  639a7a5d2f1ab8f42ac826c8 2022-12-15 10:37:33.724     0.03    -0.01   \n",
              "1  639a7a5e2f1ab8f42ac826ca 2022-12-15 10:37:34.233     0.03    -0.01   \n",
              "2  639a7a5e2f1ab8f42ac826cc 2022-12-15 10:37:34.742     0.03    -0.01   \n",
              "3  639a7a5f2f1ab8f42ac826ce 2022-12-15 10:37:35.251     0.03    -0.01   \n",
              "4  639a7a5f2f1ab8f42ac826d0 2022-12-15 10:37:35.760     0.03    -0.01   \n",
              "\n",
              "   accel_z  gyro_x  gyro_y  gyro_z  mag_x  mag_y  mag_z  __v  \n",
              "0     0.99   -0.18   -3.54   -0.31 -12.12  16.19 -42.16    0  \n",
              "1     0.99   -0.24   -3.60   -0.24 -11.82  16.52 -41.88    0  \n",
              "2     0.99   -0.06   -3.54   -0.24 -12.05  16.16 -41.75    0  \n",
              "3     0.99   -0.24   -3.48   -0.31 -12.06  16.21 -41.61    0  \n",
              "4     0.99   -0.24   -3.54   -0.31 -12.00  16.31 -42.70    0  "
            ],
            "text/html": [
              "\n",
              "  <div id=\"df-3af13adb-f1e1-4a9c-b41e-e70a866af2ac\">\n",
              "    <div class=\"colab-df-container\">\n",
              "      <div>\n",
              "<style scoped>\n",
              "    .dataframe tbody tr th:only-of-type {\n",
              "        vertical-align: middle;\n",
              "    }\n",
              "\n",
              "    .dataframe tbody tr th {\n",
              "        vertical-align: top;\n",
              "    }\n",
              "\n",
              "    .dataframe thead th {\n",
              "        text-align: right;\n",
              "    }\n",
              "</style>\n",
              "<table border=\"1\" class=\"dataframe\">\n",
              "  <thead>\n",
              "    <tr style=\"text-align: right;\">\n",
              "      <th></th>\n",
              "      <th>_id</th>\n",
              "      <th>date</th>\n",
              "      <th>accel_x</th>\n",
              "      <th>accel_y</th>\n",
              "      <th>accel_z</th>\n",
              "      <th>gyro_x</th>\n",
              "      <th>gyro_y</th>\n",
              "      <th>gyro_z</th>\n",
              "      <th>mag_x</th>\n",
              "      <th>mag_y</th>\n",
              "      <th>mag_z</th>\n",
              "      <th>__v</th>\n",
              "    </tr>\n",
              "  </thead>\n",
              "  <tbody>\n",
              "    <tr>\n",
              "      <th>0</th>\n",
              "      <td>639a7a5d2f1ab8f42ac826c8</td>\n",
              "      <td>2022-12-15 10:37:33.724</td>\n",
              "      <td>0.03</td>\n",
              "      <td>-0.01</td>\n",
              "      <td>0.99</td>\n",
              "      <td>-0.18</td>\n",
              "      <td>-3.54</td>\n",
              "      <td>-0.31</td>\n",
              "      <td>-12.12</td>\n",
              "      <td>16.19</td>\n",
              "      <td>-42.16</td>\n",
              "      <td>0</td>\n",
              "    </tr>\n",
              "    <tr>\n",
              "      <th>1</th>\n",
              "      <td>639a7a5e2f1ab8f42ac826ca</td>\n",
              "      <td>2022-12-15 10:37:34.233</td>\n",
              "      <td>0.03</td>\n",
              "      <td>-0.01</td>\n",
              "      <td>0.99</td>\n",
              "      <td>-0.24</td>\n",
              "      <td>-3.60</td>\n",
              "      <td>-0.24</td>\n",
              "      <td>-11.82</td>\n",
              "      <td>16.52</td>\n",
              "      <td>-41.88</td>\n",
              "      <td>0</td>\n",
              "    </tr>\n",
              "    <tr>\n",
              "      <th>2</th>\n",
              "      <td>639a7a5e2f1ab8f42ac826cc</td>\n",
              "      <td>2022-12-15 10:37:34.742</td>\n",
              "      <td>0.03</td>\n",
              "      <td>-0.01</td>\n",
              "      <td>0.99</td>\n",
              "      <td>-0.06</td>\n",
              "      <td>-3.54</td>\n",
              "      <td>-0.24</td>\n",
              "      <td>-12.05</td>\n",
              "      <td>16.16</td>\n",
              "      <td>-41.75</td>\n",
              "      <td>0</td>\n",
              "    </tr>\n",
              "    <tr>\n",
              "      <th>3</th>\n",
              "      <td>639a7a5f2f1ab8f42ac826ce</td>\n",
              "      <td>2022-12-15 10:37:35.251</td>\n",
              "      <td>0.03</td>\n",
              "      <td>-0.01</td>\n",
              "      <td>0.99</td>\n",
              "      <td>-0.24</td>\n",
              "      <td>-3.48</td>\n",
              "      <td>-0.31</td>\n",
              "      <td>-12.06</td>\n",
              "      <td>16.21</td>\n",
              "      <td>-41.61</td>\n",
              "      <td>0</td>\n",
              "    </tr>\n",
              "    <tr>\n",
              "      <th>4</th>\n",
              "      <td>639a7a5f2f1ab8f42ac826d0</td>\n",
              "      <td>2022-12-15 10:37:35.760</td>\n",
              "      <td>0.03</td>\n",
              "      <td>-0.01</td>\n",
              "      <td>0.99</td>\n",
              "      <td>-0.24</td>\n",
              "      <td>-3.54</td>\n",
              "      <td>-0.31</td>\n",
              "      <td>-12.00</td>\n",
              "      <td>16.31</td>\n",
              "      <td>-42.70</td>\n",
              "      <td>0</td>\n",
              "    </tr>\n",
              "  </tbody>\n",
              "</table>\n",
              "</div>\n",
              "      <button class=\"colab-df-convert\" onclick=\"convertToInteractive('df-3af13adb-f1e1-4a9c-b41e-e70a866af2ac')\"\n",
              "              title=\"Convert this dataframe to an interactive table.\"\n",
              "              style=\"display:none;\">\n",
              "        \n",
              "  <svg xmlns=\"http://www.w3.org/2000/svg\" height=\"24px\"viewBox=\"0 0 24 24\"\n",
              "       width=\"24px\">\n",
              "    <path d=\"M0 0h24v24H0V0z\" fill=\"none\"/>\n",
              "    <path d=\"M18.56 5.44l.94 2.06.94-2.06 2.06-.94-2.06-.94-.94-2.06-.94 2.06-2.06.94zm-11 1L8.5 8.5l.94-2.06 2.06-.94-2.06-.94L8.5 2.5l-.94 2.06-2.06.94zm10 10l.94 2.06.94-2.06 2.06-.94-2.06-.94-.94-2.06-.94 2.06-2.06.94z\"/><path d=\"M17.41 7.96l-1.37-1.37c-.4-.4-.92-.59-1.43-.59-.52 0-1.04.2-1.43.59L10.3 9.45l-7.72 7.72c-.78.78-.78 2.05 0 2.83L4 21.41c.39.39.9.59 1.41.59.51 0 1.02-.2 1.41-.59l7.78-7.78 2.81-2.81c.8-.78.8-2.07 0-2.86zM5.41 20L4 18.59l7.72-7.72 1.47 1.35L5.41 20z\"/>\n",
              "  </svg>\n",
              "      </button>\n",
              "      \n",
              "  <style>\n",
              "    .colab-df-container {\n",
              "      display:flex;\n",
              "      flex-wrap:wrap;\n",
              "      gap: 12px;\n",
              "    }\n",
              "\n",
              "    .colab-df-convert {\n",
              "      background-color: #E8F0FE;\n",
              "      border: none;\n",
              "      border-radius: 50%;\n",
              "      cursor: pointer;\n",
              "      display: none;\n",
              "      fill: #1967D2;\n",
              "      height: 32px;\n",
              "      padding: 0 0 0 0;\n",
              "      width: 32px;\n",
              "    }\n",
              "\n",
              "    .colab-df-convert:hover {\n",
              "      background-color: #E2EBFA;\n",
              "      box-shadow: 0px 1px 2px rgba(60, 64, 67, 0.3), 0px 1px 3px 1px rgba(60, 64, 67, 0.15);\n",
              "      fill: #174EA6;\n",
              "    }\n",
              "\n",
              "    [theme=dark] .colab-df-convert {\n",
              "      background-color: #3B4455;\n",
              "      fill: #D2E3FC;\n",
              "    }\n",
              "\n",
              "    [theme=dark] .colab-df-convert:hover {\n",
              "      background-color: #434B5C;\n",
              "      box-shadow: 0px 1px 3px 1px rgba(0, 0, 0, 0.15);\n",
              "      filter: drop-shadow(0px 1px 2px rgba(0, 0, 0, 0.3));\n",
              "      fill: #FFFFFF;\n",
              "    }\n",
              "  </style>\n",
              "\n",
              "      <script>\n",
              "        const buttonEl =\n",
              "          document.querySelector('#df-3af13adb-f1e1-4a9c-b41e-e70a866af2ac button.colab-df-convert');\n",
              "        buttonEl.style.display =\n",
              "          google.colab.kernel.accessAllowed ? 'block' : 'none';\n",
              "\n",
              "        async function convertToInteractive(key) {\n",
              "          const element = document.querySelector('#df-3af13adb-f1e1-4a9c-b41e-e70a866af2ac');\n",
              "          const dataTable =\n",
              "            await google.colab.kernel.invokeFunction('convertToInteractive',\n",
              "                                                     [key], {});\n",
              "          if (!dataTable) return;\n",
              "\n",
              "          const docLinkHtml = 'Like what you see? Visit the ' +\n",
              "            '<a target=\"_blank\" href=https://colab.research.google.com/notebooks/data_table.ipynb>data table notebook</a>'\n",
              "            + ' to learn more about interactive tables.';\n",
              "          element.innerHTML = '';\n",
              "          dataTable['output_type'] = 'display_data';\n",
              "          await google.colab.output.renderOutput(dataTable, element);\n",
              "          const docLink = document.createElement('div');\n",
              "          docLink.innerHTML = docLinkHtml;\n",
              "          element.appendChild(docLink);\n",
              "        }\n",
              "      </script>\n",
              "    </div>\n",
              "  </div>\n",
              "  "
            ]
          },
          "metadata": {},
          "execution_count": 3
        }
      ]
    },
    {
      "cell_type": "code",
      "metadata": {
        "colab": {
          "base_uri": "https://localhost:8080/",
          "height": 206
        },
        "id": "Qz0XxhI4wlyn",
        "outputId": "764af505-893c-4dcc-b42f-b5ea1488124c"
      },
      "source": [
        "df.tail()"
      ],
      "execution_count": 4,
      "outputs": [
        {
          "output_type": "execute_result",
          "data": {
            "text/plain": [
              "                            _id                    date  accel_x  accel_y  \\\n",
              "30234  639ab6b12eb916f872310442 2022-12-15 14:54:57.413     0.03    -0.00   \n",
              "30235  639ab6b12eb916f872310444 2022-12-15 14:54:57.922     0.03    -0.00   \n",
              "30236  639ab6b22eb916f872310446 2022-12-15 14:54:58.431     0.03    -0.00   \n",
              "30237  639ab6b22eb916f872310448 2022-12-15 14:54:58.940     0.04    -0.01   \n",
              "30238  639ab6b32eb916f87231044a 2022-12-15 14:54:59.449     0.03    -0.00   \n",
              "\n",
              "       accel_z  gyro_x  gyro_y  gyro_z  mag_x  mag_y  mag_z  __v  \n",
              "30234     0.99   -0.24   -3.66   -0.31 -11.65  -1.81 -55.86    0  \n",
              "30235     0.99   -0.37   -3.42   -0.24 -12.04  -2.11 -55.73    0  \n",
              "30236     0.99   -0.43   -3.48   -0.43 -11.60  -2.15 -54.86    0  \n",
              "30237     0.99   -0.12   -3.42   -0.24 -11.62  -2.31 -55.26    0  \n",
              "30238     0.99   -0.12   -3.48   -0.31 -11.72  -1.81 -56.41    0  "
            ],
            "text/html": [
              "\n",
              "  <div id=\"df-839def46-5a55-4cec-960f-f92007af8e66\">\n",
              "    <div class=\"colab-df-container\">\n",
              "      <div>\n",
              "<style scoped>\n",
              "    .dataframe tbody tr th:only-of-type {\n",
              "        vertical-align: middle;\n",
              "    }\n",
              "\n",
              "    .dataframe tbody tr th {\n",
              "        vertical-align: top;\n",
              "    }\n",
              "\n",
              "    .dataframe thead th {\n",
              "        text-align: right;\n",
              "    }\n",
              "</style>\n",
              "<table border=\"1\" class=\"dataframe\">\n",
              "  <thead>\n",
              "    <tr style=\"text-align: right;\">\n",
              "      <th></th>\n",
              "      <th>_id</th>\n",
              "      <th>date</th>\n",
              "      <th>accel_x</th>\n",
              "      <th>accel_y</th>\n",
              "      <th>accel_z</th>\n",
              "      <th>gyro_x</th>\n",
              "      <th>gyro_y</th>\n",
              "      <th>gyro_z</th>\n",
              "      <th>mag_x</th>\n",
              "      <th>mag_y</th>\n",
              "      <th>mag_z</th>\n",
              "      <th>__v</th>\n",
              "    </tr>\n",
              "  </thead>\n",
              "  <tbody>\n",
              "    <tr>\n",
              "      <th>30234</th>\n",
              "      <td>639ab6b12eb916f872310442</td>\n",
              "      <td>2022-12-15 14:54:57.413</td>\n",
              "      <td>0.03</td>\n",
              "      <td>-0.00</td>\n",
              "      <td>0.99</td>\n",
              "      <td>-0.24</td>\n",
              "      <td>-3.66</td>\n",
              "      <td>-0.31</td>\n",
              "      <td>-11.65</td>\n",
              "      <td>-1.81</td>\n",
              "      <td>-55.86</td>\n",
              "      <td>0</td>\n",
              "    </tr>\n",
              "    <tr>\n",
              "      <th>30235</th>\n",
              "      <td>639ab6b12eb916f872310444</td>\n",
              "      <td>2022-12-15 14:54:57.922</td>\n",
              "      <td>0.03</td>\n",
              "      <td>-0.00</td>\n",
              "      <td>0.99</td>\n",
              "      <td>-0.37</td>\n",
              "      <td>-3.42</td>\n",
              "      <td>-0.24</td>\n",
              "      <td>-12.04</td>\n",
              "      <td>-2.11</td>\n",
              "      <td>-55.73</td>\n",
              "      <td>0</td>\n",
              "    </tr>\n",
              "    <tr>\n",
              "      <th>30236</th>\n",
              "      <td>639ab6b22eb916f872310446</td>\n",
              "      <td>2022-12-15 14:54:58.431</td>\n",
              "      <td>0.03</td>\n",
              "      <td>-0.00</td>\n",
              "      <td>0.99</td>\n",
              "      <td>-0.43</td>\n",
              "      <td>-3.48</td>\n",
              "      <td>-0.43</td>\n",
              "      <td>-11.60</td>\n",
              "      <td>-2.15</td>\n",
              "      <td>-54.86</td>\n",
              "      <td>0</td>\n",
              "    </tr>\n",
              "    <tr>\n",
              "      <th>30237</th>\n",
              "      <td>639ab6b22eb916f872310448</td>\n",
              "      <td>2022-12-15 14:54:58.940</td>\n",
              "      <td>0.04</td>\n",
              "      <td>-0.01</td>\n",
              "      <td>0.99</td>\n",
              "      <td>-0.12</td>\n",
              "      <td>-3.42</td>\n",
              "      <td>-0.24</td>\n",
              "      <td>-11.62</td>\n",
              "      <td>-2.31</td>\n",
              "      <td>-55.26</td>\n",
              "      <td>0</td>\n",
              "    </tr>\n",
              "    <tr>\n",
              "      <th>30238</th>\n",
              "      <td>639ab6b32eb916f87231044a</td>\n",
              "      <td>2022-12-15 14:54:59.449</td>\n",
              "      <td>0.03</td>\n",
              "      <td>-0.00</td>\n",
              "      <td>0.99</td>\n",
              "      <td>-0.12</td>\n",
              "      <td>-3.48</td>\n",
              "      <td>-0.31</td>\n",
              "      <td>-11.72</td>\n",
              "      <td>-1.81</td>\n",
              "      <td>-56.41</td>\n",
              "      <td>0</td>\n",
              "    </tr>\n",
              "  </tbody>\n",
              "</table>\n",
              "</div>\n",
              "      <button class=\"colab-df-convert\" onclick=\"convertToInteractive('df-839def46-5a55-4cec-960f-f92007af8e66')\"\n",
              "              title=\"Convert this dataframe to an interactive table.\"\n",
              "              style=\"display:none;\">\n",
              "        \n",
              "  <svg xmlns=\"http://www.w3.org/2000/svg\" height=\"24px\"viewBox=\"0 0 24 24\"\n",
              "       width=\"24px\">\n",
              "    <path d=\"M0 0h24v24H0V0z\" fill=\"none\"/>\n",
              "    <path d=\"M18.56 5.44l.94 2.06.94-2.06 2.06-.94-2.06-.94-.94-2.06-.94 2.06-2.06.94zm-11 1L8.5 8.5l.94-2.06 2.06-.94-2.06-.94L8.5 2.5l-.94 2.06-2.06.94zm10 10l.94 2.06.94-2.06 2.06-.94-2.06-.94-.94-2.06-.94 2.06-2.06.94z\"/><path d=\"M17.41 7.96l-1.37-1.37c-.4-.4-.92-.59-1.43-.59-.52 0-1.04.2-1.43.59L10.3 9.45l-7.72 7.72c-.78.78-.78 2.05 0 2.83L4 21.41c.39.39.9.59 1.41.59.51 0 1.02-.2 1.41-.59l7.78-7.78 2.81-2.81c.8-.78.8-2.07 0-2.86zM5.41 20L4 18.59l7.72-7.72 1.47 1.35L5.41 20z\"/>\n",
              "  </svg>\n",
              "      </button>\n",
              "      \n",
              "  <style>\n",
              "    .colab-df-container {\n",
              "      display:flex;\n",
              "      flex-wrap:wrap;\n",
              "      gap: 12px;\n",
              "    }\n",
              "\n",
              "    .colab-df-convert {\n",
              "      background-color: #E8F0FE;\n",
              "      border: none;\n",
              "      border-radius: 50%;\n",
              "      cursor: pointer;\n",
              "      display: none;\n",
              "      fill: #1967D2;\n",
              "      height: 32px;\n",
              "      padding: 0 0 0 0;\n",
              "      width: 32px;\n",
              "    }\n",
              "\n",
              "    .colab-df-convert:hover {\n",
              "      background-color: #E2EBFA;\n",
              "      box-shadow: 0px 1px 2px rgba(60, 64, 67, 0.3), 0px 1px 3px 1px rgba(60, 64, 67, 0.15);\n",
              "      fill: #174EA6;\n",
              "    }\n",
              "\n",
              "    [theme=dark] .colab-df-convert {\n",
              "      background-color: #3B4455;\n",
              "      fill: #D2E3FC;\n",
              "    }\n",
              "\n",
              "    [theme=dark] .colab-df-convert:hover {\n",
              "      background-color: #434B5C;\n",
              "      box-shadow: 0px 1px 3px 1px rgba(0, 0, 0, 0.15);\n",
              "      filter: drop-shadow(0px 1px 2px rgba(0, 0, 0, 0.3));\n",
              "      fill: #FFFFFF;\n",
              "    }\n",
              "  </style>\n",
              "\n",
              "      <script>\n",
              "        const buttonEl =\n",
              "          document.querySelector('#df-839def46-5a55-4cec-960f-f92007af8e66 button.colab-df-convert');\n",
              "        buttonEl.style.display =\n",
              "          google.colab.kernel.accessAllowed ? 'block' : 'none';\n",
              "\n",
              "        async function convertToInteractive(key) {\n",
              "          const element = document.querySelector('#df-839def46-5a55-4cec-960f-f92007af8e66');\n",
              "          const dataTable =\n",
              "            await google.colab.kernel.invokeFunction('convertToInteractive',\n",
              "                                                     [key], {});\n",
              "          if (!dataTable) return;\n",
              "\n",
              "          const docLinkHtml = 'Like what you see? Visit the ' +\n",
              "            '<a target=\"_blank\" href=https://colab.research.google.com/notebooks/data_table.ipynb>data table notebook</a>'\n",
              "            + ' to learn more about interactive tables.';\n",
              "          element.innerHTML = '';\n",
              "          dataTable['output_type'] = 'display_data';\n",
              "          await google.colab.output.renderOutput(dataTable, element);\n",
              "          const docLink = document.createElement('div');\n",
              "          docLink.innerHTML = docLinkHtml;\n",
              "          element.appendChild(docLink);\n",
              "        }\n",
              "      </script>\n",
              "    </div>\n",
              "  </div>\n",
              "  "
            ]
          },
          "metadata": {},
          "execution_count": 4
        }
      ]
    },
    {
      "cell_type": "code",
      "metadata": {
        "colab": {
          "base_uri": "https://localhost:8080/"
        },
        "id": "xu5T5omfwlys",
        "outputId": "f7dd0d2b-9b6b-4d1c-a2ad-3e4e8ff1b27e"
      },
      "source": [
        "df.shape, type(df)"
      ],
      "execution_count": 5,
      "outputs": [
        {
          "output_type": "execute_result",
          "data": {
            "text/plain": [
              "((30239, 12), pandas.core.frame.DataFrame)"
            ]
          },
          "metadata": {},
          "execution_count": 5
        }
      ]
    },
    {
      "cell_type": "code",
      "metadata": {
        "colab": {
          "base_uri": "https://localhost:8080/"
        },
        "id": "IGr_hz20Il9L",
        "outputId": "e9931dfd-7711-48de-d612-90c4da5cf490"
      },
      "source": [
        "df['date'][:1],df['date'][-1:]"
      ],
      "execution_count": 6,
      "outputs": [
        {
          "output_type": "execute_result",
          "data": {
            "text/plain": [
              "(0   2022-12-15 10:37:33.724\n",
              " Name: date, dtype: datetime64[ns], 30238   2022-12-15 14:54:59.449\n",
              " Name: date, dtype: datetime64[ns])"
            ]
          },
          "metadata": {},
          "execution_count": 6
        }
      ]
    },
    {
      "cell_type": "code",
      "metadata": {
        "colab": {
          "base_uri": "https://localhost:8080/"
        },
        "id": "Ba7jYmgKwlyx",
        "outputId": "0feb99c2-1487-4b1a-d108-abe973153879"
      },
      "source": [
        "df.info()"
      ],
      "execution_count": 7,
      "outputs": [
        {
          "output_type": "stream",
          "name": "stdout",
          "text": [
            "<class 'pandas.core.frame.DataFrame'>\n",
            "RangeIndex: 30239 entries, 0 to 30238\n",
            "Data columns (total 12 columns):\n",
            " #   Column   Non-Null Count  Dtype         \n",
            "---  ------   --------------  -----         \n",
            " 0   _id      30239 non-null  object        \n",
            " 1   date     30239 non-null  datetime64[ns]\n",
            " 2   accel_x  30239 non-null  float64       \n",
            " 3   accel_y  30239 non-null  float64       \n",
            " 4   accel_z  30239 non-null  float64       \n",
            " 5   gyro_x   30239 non-null  float64       \n",
            " 6   gyro_y   30239 non-null  float64       \n",
            " 7   gyro_z   30239 non-null  float64       \n",
            " 8   mag_x    30239 non-null  float64       \n",
            " 9   mag_y    30239 non-null  float64       \n",
            " 10  mag_z    30239 non-null  float64       \n",
            " 11  __v      30239 non-null  int64         \n",
            "dtypes: datetime64[ns](1), float64(9), int64(1), object(1)\n",
            "memory usage: 2.8+ MB\n"
          ]
        }
      ]
    },
    {
      "cell_type": "code",
      "metadata": {
        "colab": {
          "base_uri": "https://localhost:8080/",
          "height": 300
        },
        "id": "6VGEIgiEydOV",
        "outputId": "c0c743b8-3594-4e3a-a7fc-2d5e9d5a87ed"
      },
      "source": [
        "df.describe()"
      ],
      "execution_count": 8,
      "outputs": [
        {
          "output_type": "execute_result",
          "data": {
            "text/plain": [
              "            accel_x       accel_y       accel_z        gyro_x        gyro_y  \\\n",
              "count  30239.000000  30239.000000  30239.000000  30239.000000  30239.000000   \n",
              "mean      -0.008673     -0.003551      0.938262     -0.017759     -3.210933   \n",
              "std        0.230824      0.156704      0.238246     45.416320     37.469278   \n",
              "min       -2.900000     -2.250000     -1.600000   -909.550000   -613.160000   \n",
              "25%        0.010000     -0.010000      0.990000     -0.310000     -3.600000   \n",
              "50%        0.030000      0.000000      0.990000     -0.240000     -3.540000   \n",
              "75%        0.030000     -0.000000      0.990000     -0.180000     -3.420000   \n",
              "max        1.400000      1.680000      2.510000   1258.610000    663.150000   \n",
              "\n",
              "             gyro_z         mag_x         mag_y         mag_z      __v  \n",
              "count  30239.000000  30239.000000  30239.000000  30239.000000  30239.0  \n",
              "mean      -0.306175     -3.405274      2.293608    -50.721206      0.0  \n",
              "std       29.431883     11.838246     11.464549     15.982885      0.0  \n",
              "min     -480.350000    -47.270000    -26.550000   -103.260000      0.0  \n",
              "25%       -0.370000    -11.490000     -5.800000    -55.300000      0.0  \n",
              "50%       -0.310000     -7.590000     -1.880000    -53.690000      0.0  \n",
              "75%       -0.240000      1.480000      7.610000    -46.120000      0.0  \n",
              "max      421.870000     35.130000     45.080000     38.240000      0.0  "
            ],
            "text/html": [
              "\n",
              "  <div id=\"df-77600561-4e86-4879-92ff-0ebd05cef91b\">\n",
              "    <div class=\"colab-df-container\">\n",
              "      <div>\n",
              "<style scoped>\n",
              "    .dataframe tbody tr th:only-of-type {\n",
              "        vertical-align: middle;\n",
              "    }\n",
              "\n",
              "    .dataframe tbody tr th {\n",
              "        vertical-align: top;\n",
              "    }\n",
              "\n",
              "    .dataframe thead th {\n",
              "        text-align: right;\n",
              "    }\n",
              "</style>\n",
              "<table border=\"1\" class=\"dataframe\">\n",
              "  <thead>\n",
              "    <tr style=\"text-align: right;\">\n",
              "      <th></th>\n",
              "      <th>accel_x</th>\n",
              "      <th>accel_y</th>\n",
              "      <th>accel_z</th>\n",
              "      <th>gyro_x</th>\n",
              "      <th>gyro_y</th>\n",
              "      <th>gyro_z</th>\n",
              "      <th>mag_x</th>\n",
              "      <th>mag_y</th>\n",
              "      <th>mag_z</th>\n",
              "      <th>__v</th>\n",
              "    </tr>\n",
              "  </thead>\n",
              "  <tbody>\n",
              "    <tr>\n",
              "      <th>count</th>\n",
              "      <td>30239.000000</td>\n",
              "      <td>30239.000000</td>\n",
              "      <td>30239.000000</td>\n",
              "      <td>30239.000000</td>\n",
              "      <td>30239.000000</td>\n",
              "      <td>30239.000000</td>\n",
              "      <td>30239.000000</td>\n",
              "      <td>30239.000000</td>\n",
              "      <td>30239.000000</td>\n",
              "      <td>30239.0</td>\n",
              "    </tr>\n",
              "    <tr>\n",
              "      <th>mean</th>\n",
              "      <td>-0.008673</td>\n",
              "      <td>-0.003551</td>\n",
              "      <td>0.938262</td>\n",
              "      <td>-0.017759</td>\n",
              "      <td>-3.210933</td>\n",
              "      <td>-0.306175</td>\n",
              "      <td>-3.405274</td>\n",
              "      <td>2.293608</td>\n",
              "      <td>-50.721206</td>\n",
              "      <td>0.0</td>\n",
              "    </tr>\n",
              "    <tr>\n",
              "      <th>std</th>\n",
              "      <td>0.230824</td>\n",
              "      <td>0.156704</td>\n",
              "      <td>0.238246</td>\n",
              "      <td>45.416320</td>\n",
              "      <td>37.469278</td>\n",
              "      <td>29.431883</td>\n",
              "      <td>11.838246</td>\n",
              "      <td>11.464549</td>\n",
              "      <td>15.982885</td>\n",
              "      <td>0.0</td>\n",
              "    </tr>\n",
              "    <tr>\n",
              "      <th>min</th>\n",
              "      <td>-2.900000</td>\n",
              "      <td>-2.250000</td>\n",
              "      <td>-1.600000</td>\n",
              "      <td>-909.550000</td>\n",
              "      <td>-613.160000</td>\n",
              "      <td>-480.350000</td>\n",
              "      <td>-47.270000</td>\n",
              "      <td>-26.550000</td>\n",
              "      <td>-103.260000</td>\n",
              "      <td>0.0</td>\n",
              "    </tr>\n",
              "    <tr>\n",
              "      <th>25%</th>\n",
              "      <td>0.010000</td>\n",
              "      <td>-0.010000</td>\n",
              "      <td>0.990000</td>\n",
              "      <td>-0.310000</td>\n",
              "      <td>-3.600000</td>\n",
              "      <td>-0.370000</td>\n",
              "      <td>-11.490000</td>\n",
              "      <td>-5.800000</td>\n",
              "      <td>-55.300000</td>\n",
              "      <td>0.0</td>\n",
              "    </tr>\n",
              "    <tr>\n",
              "      <th>50%</th>\n",
              "      <td>0.030000</td>\n",
              "      <td>0.000000</td>\n",
              "      <td>0.990000</td>\n",
              "      <td>-0.240000</td>\n",
              "      <td>-3.540000</td>\n",
              "      <td>-0.310000</td>\n",
              "      <td>-7.590000</td>\n",
              "      <td>-1.880000</td>\n",
              "      <td>-53.690000</td>\n",
              "      <td>0.0</td>\n",
              "    </tr>\n",
              "    <tr>\n",
              "      <th>75%</th>\n",
              "      <td>0.030000</td>\n",
              "      <td>-0.000000</td>\n",
              "      <td>0.990000</td>\n",
              "      <td>-0.180000</td>\n",
              "      <td>-3.420000</td>\n",
              "      <td>-0.240000</td>\n",
              "      <td>1.480000</td>\n",
              "      <td>7.610000</td>\n",
              "      <td>-46.120000</td>\n",
              "      <td>0.0</td>\n",
              "    </tr>\n",
              "    <tr>\n",
              "      <th>max</th>\n",
              "      <td>1.400000</td>\n",
              "      <td>1.680000</td>\n",
              "      <td>2.510000</td>\n",
              "      <td>1258.610000</td>\n",
              "      <td>663.150000</td>\n",
              "      <td>421.870000</td>\n",
              "      <td>35.130000</td>\n",
              "      <td>45.080000</td>\n",
              "      <td>38.240000</td>\n",
              "      <td>0.0</td>\n",
              "    </tr>\n",
              "  </tbody>\n",
              "</table>\n",
              "</div>\n",
              "      <button class=\"colab-df-convert\" onclick=\"convertToInteractive('df-77600561-4e86-4879-92ff-0ebd05cef91b')\"\n",
              "              title=\"Convert this dataframe to an interactive table.\"\n",
              "              style=\"display:none;\">\n",
              "        \n",
              "  <svg xmlns=\"http://www.w3.org/2000/svg\" height=\"24px\"viewBox=\"0 0 24 24\"\n",
              "       width=\"24px\">\n",
              "    <path d=\"M0 0h24v24H0V0z\" fill=\"none\"/>\n",
              "    <path d=\"M18.56 5.44l.94 2.06.94-2.06 2.06-.94-2.06-.94-.94-2.06-.94 2.06-2.06.94zm-11 1L8.5 8.5l.94-2.06 2.06-.94-2.06-.94L8.5 2.5l-.94 2.06-2.06.94zm10 10l.94 2.06.94-2.06 2.06-.94-2.06-.94-.94-2.06-.94 2.06-2.06.94z\"/><path d=\"M17.41 7.96l-1.37-1.37c-.4-.4-.92-.59-1.43-.59-.52 0-1.04.2-1.43.59L10.3 9.45l-7.72 7.72c-.78.78-.78 2.05 0 2.83L4 21.41c.39.39.9.59 1.41.59.51 0 1.02-.2 1.41-.59l7.78-7.78 2.81-2.81c.8-.78.8-2.07 0-2.86zM5.41 20L4 18.59l7.72-7.72 1.47 1.35L5.41 20z\"/>\n",
              "  </svg>\n",
              "      </button>\n",
              "      \n",
              "  <style>\n",
              "    .colab-df-container {\n",
              "      display:flex;\n",
              "      flex-wrap:wrap;\n",
              "      gap: 12px;\n",
              "    }\n",
              "\n",
              "    .colab-df-convert {\n",
              "      background-color: #E8F0FE;\n",
              "      border: none;\n",
              "      border-radius: 50%;\n",
              "      cursor: pointer;\n",
              "      display: none;\n",
              "      fill: #1967D2;\n",
              "      height: 32px;\n",
              "      padding: 0 0 0 0;\n",
              "      width: 32px;\n",
              "    }\n",
              "\n",
              "    .colab-df-convert:hover {\n",
              "      background-color: #E2EBFA;\n",
              "      box-shadow: 0px 1px 2px rgba(60, 64, 67, 0.3), 0px 1px 3px 1px rgba(60, 64, 67, 0.15);\n",
              "      fill: #174EA6;\n",
              "    }\n",
              "\n",
              "    [theme=dark] .colab-df-convert {\n",
              "      background-color: #3B4455;\n",
              "      fill: #D2E3FC;\n",
              "    }\n",
              "\n",
              "    [theme=dark] .colab-df-convert:hover {\n",
              "      background-color: #434B5C;\n",
              "      box-shadow: 0px 1px 3px 1px rgba(0, 0, 0, 0.15);\n",
              "      filter: drop-shadow(0px 1px 2px rgba(0, 0, 0, 0.3));\n",
              "      fill: #FFFFFF;\n",
              "    }\n",
              "  </style>\n",
              "\n",
              "      <script>\n",
              "        const buttonEl =\n",
              "          document.querySelector('#df-77600561-4e86-4879-92ff-0ebd05cef91b button.colab-df-convert');\n",
              "        buttonEl.style.display =\n",
              "          google.colab.kernel.accessAllowed ? 'block' : 'none';\n",
              "\n",
              "        async function convertToInteractive(key) {\n",
              "          const element = document.querySelector('#df-77600561-4e86-4879-92ff-0ebd05cef91b');\n",
              "          const dataTable =\n",
              "            await google.colab.kernel.invokeFunction('convertToInteractive',\n",
              "                                                     [key], {});\n",
              "          if (!dataTable) return;\n",
              "\n",
              "          const docLinkHtml = 'Like what you see? Visit the ' +\n",
              "            '<a target=\"_blank\" href=https://colab.research.google.com/notebooks/data_table.ipynb>data table notebook</a>'\n",
              "            + ' to learn more about interactive tables.';\n",
              "          element.innerHTML = '';\n",
              "          dataTable['output_type'] = 'display_data';\n",
              "          await google.colab.output.renderOutput(dataTable, element);\n",
              "          const docLink = document.createElement('div');\n",
              "          docLink.innerHTML = docLinkHtml;\n",
              "          element.appendChild(docLink);\n",
              "        }\n",
              "      </script>\n",
              "    </div>\n",
              "  </div>\n",
              "  "
            ]
          },
          "metadata": {},
          "execution_count": 8
        }
      ]
    },
    {
      "cell_type": "markdown",
      "metadata": {
        "id": "g9Z8adSvNEp_"
      },
      "source": [
        "## Check data\n",
        "- NaN\n",
        "- missing value"
      ]
    },
    {
      "cell_type": "code",
      "metadata": {
        "colab": {
          "base_uri": "https://localhost:8080/"
        },
        "id": "c35w4k5fNJRI",
        "outputId": "6d1a46b8-a223-45d2-bf4c-b869860902fe"
      },
      "source": [
        "df.isnull().sum() #/df.shape[0]*100"
      ],
      "execution_count": 9,
      "outputs": [
        {
          "output_type": "execute_result",
          "data": {
            "text/plain": [
              "_id        0\n",
              "date       0\n",
              "accel_x    0\n",
              "accel_y    0\n",
              "accel_z    0\n",
              "gyro_x     0\n",
              "gyro_y     0\n",
              "gyro_z     0\n",
              "mag_x      0\n",
              "mag_y      0\n",
              "mag_z      0\n",
              "__v        0\n",
              "dtype: int64"
            ]
          },
          "metadata": {},
          "execution_count": 9
        }
      ]
    },
    {
      "cell_type": "code",
      "metadata": {
        "colab": {
          "base_uri": "https://localhost:8080/"
        },
        "id": "V6txumYNbERU",
        "outputId": "ac865936-428c-4e64-fe4f-648c3759f56e"
      },
      "source": [
        "df.isna().sum()"
      ],
      "execution_count": 10,
      "outputs": [
        {
          "output_type": "execute_result",
          "data": {
            "text/plain": [
              "_id        0\n",
              "date       0\n",
              "accel_x    0\n",
              "accel_y    0\n",
              "accel_z    0\n",
              "gyro_x     0\n",
              "gyro_y     0\n",
              "gyro_z     0\n",
              "mag_x      0\n",
              "mag_y      0\n",
              "mag_z      0\n",
              "__v        0\n",
              "dtype: int64"
            ]
          },
          "metadata": {},
          "execution_count": 10
        }
      ]
    },
    {
      "cell_type": "markdown",
      "metadata": {
        "id": "eR-9lPsaN1ce"
      },
      "source": [
        "## Replace NaN with mean: Imputation\n",
        "- NaN ==>> mean, 33.3 (100/3)"
      ]
    },
    {
      "cell_type": "code",
      "metadata": {
        "id": "aOZec4f9Z4uB"
      },
      "source": [
        "# df=df.fillna(33.3)\n",
        "# df.isna().sum()"
      ],
      "execution_count": null,
      "outputs": []
    },
    {
      "cell_type": "markdown",
      "metadata": {
        "id": "fMZWYEMxOmSy"
      },
      "source": [
        "## IoT data were cleaned!"
      ]
    },
    {
      "cell_type": "code",
      "source": [
        "# Save cleaned iot data in csv file.\n",
        "df.to_csv('iot33imu_data_cleaned_221215_raw.csv')"
      ],
      "metadata": {
        "id": "N6MPFoVPDKAV"
      },
      "execution_count": 11,
      "outputs": []
    },
    {
      "cell_type": "code",
      "metadata": {
        "colab": {
          "base_uri": "https://localhost:8080/",
          "height": 206
        },
        "id": "PG38R4s0pU4B",
        "outputId": "bcb58608-990e-41a8-af1b-7275ff4c353f"
      },
      "source": [
        "df.head()"
      ],
      "execution_count": 12,
      "outputs": [
        {
          "output_type": "execute_result",
          "data": {
            "text/plain": [
              "                        _id                    date  accel_x  accel_y  \\\n",
              "0  639a7a5d2f1ab8f42ac826c8 2022-12-15 10:37:33.724     0.03    -0.01   \n",
              "1  639a7a5e2f1ab8f42ac826ca 2022-12-15 10:37:34.233     0.03    -0.01   \n",
              "2  639a7a5e2f1ab8f42ac826cc 2022-12-15 10:37:34.742     0.03    -0.01   \n",
              "3  639a7a5f2f1ab8f42ac826ce 2022-12-15 10:37:35.251     0.03    -0.01   \n",
              "4  639a7a5f2f1ab8f42ac826d0 2022-12-15 10:37:35.760     0.03    -0.01   \n",
              "\n",
              "   accel_z  gyro_x  gyro_y  gyro_z  mag_x  mag_y  mag_z  __v  \n",
              "0     0.99   -0.18   -3.54   -0.31 -12.12  16.19 -42.16    0  \n",
              "1     0.99   -0.24   -3.60   -0.24 -11.82  16.52 -41.88    0  \n",
              "2     0.99   -0.06   -3.54   -0.24 -12.05  16.16 -41.75    0  \n",
              "3     0.99   -0.24   -3.48   -0.31 -12.06  16.21 -41.61    0  \n",
              "4     0.99   -0.24   -3.54   -0.31 -12.00  16.31 -42.70    0  "
            ],
            "text/html": [
              "\n",
              "  <div id=\"df-7bf0aa70-687e-4fa3-ab58-6c584356f466\">\n",
              "    <div class=\"colab-df-container\">\n",
              "      <div>\n",
              "<style scoped>\n",
              "    .dataframe tbody tr th:only-of-type {\n",
              "        vertical-align: middle;\n",
              "    }\n",
              "\n",
              "    .dataframe tbody tr th {\n",
              "        vertical-align: top;\n",
              "    }\n",
              "\n",
              "    .dataframe thead th {\n",
              "        text-align: right;\n",
              "    }\n",
              "</style>\n",
              "<table border=\"1\" class=\"dataframe\">\n",
              "  <thead>\n",
              "    <tr style=\"text-align: right;\">\n",
              "      <th></th>\n",
              "      <th>_id</th>\n",
              "      <th>date</th>\n",
              "      <th>accel_x</th>\n",
              "      <th>accel_y</th>\n",
              "      <th>accel_z</th>\n",
              "      <th>gyro_x</th>\n",
              "      <th>gyro_y</th>\n",
              "      <th>gyro_z</th>\n",
              "      <th>mag_x</th>\n",
              "      <th>mag_y</th>\n",
              "      <th>mag_z</th>\n",
              "      <th>__v</th>\n",
              "    </tr>\n",
              "  </thead>\n",
              "  <tbody>\n",
              "    <tr>\n",
              "      <th>0</th>\n",
              "      <td>639a7a5d2f1ab8f42ac826c8</td>\n",
              "      <td>2022-12-15 10:37:33.724</td>\n",
              "      <td>0.03</td>\n",
              "      <td>-0.01</td>\n",
              "      <td>0.99</td>\n",
              "      <td>-0.18</td>\n",
              "      <td>-3.54</td>\n",
              "      <td>-0.31</td>\n",
              "      <td>-12.12</td>\n",
              "      <td>16.19</td>\n",
              "      <td>-42.16</td>\n",
              "      <td>0</td>\n",
              "    </tr>\n",
              "    <tr>\n",
              "      <th>1</th>\n",
              "      <td>639a7a5e2f1ab8f42ac826ca</td>\n",
              "      <td>2022-12-15 10:37:34.233</td>\n",
              "      <td>0.03</td>\n",
              "      <td>-0.01</td>\n",
              "      <td>0.99</td>\n",
              "      <td>-0.24</td>\n",
              "      <td>-3.60</td>\n",
              "      <td>-0.24</td>\n",
              "      <td>-11.82</td>\n",
              "      <td>16.52</td>\n",
              "      <td>-41.88</td>\n",
              "      <td>0</td>\n",
              "    </tr>\n",
              "    <tr>\n",
              "      <th>2</th>\n",
              "      <td>639a7a5e2f1ab8f42ac826cc</td>\n",
              "      <td>2022-12-15 10:37:34.742</td>\n",
              "      <td>0.03</td>\n",
              "      <td>-0.01</td>\n",
              "      <td>0.99</td>\n",
              "      <td>-0.06</td>\n",
              "      <td>-3.54</td>\n",
              "      <td>-0.24</td>\n",
              "      <td>-12.05</td>\n",
              "      <td>16.16</td>\n",
              "      <td>-41.75</td>\n",
              "      <td>0</td>\n",
              "    </tr>\n",
              "    <tr>\n",
              "      <th>3</th>\n",
              "      <td>639a7a5f2f1ab8f42ac826ce</td>\n",
              "      <td>2022-12-15 10:37:35.251</td>\n",
              "      <td>0.03</td>\n",
              "      <td>-0.01</td>\n",
              "      <td>0.99</td>\n",
              "      <td>-0.24</td>\n",
              "      <td>-3.48</td>\n",
              "      <td>-0.31</td>\n",
              "      <td>-12.06</td>\n",
              "      <td>16.21</td>\n",
              "      <td>-41.61</td>\n",
              "      <td>0</td>\n",
              "    </tr>\n",
              "    <tr>\n",
              "      <th>4</th>\n",
              "      <td>639a7a5f2f1ab8f42ac826d0</td>\n",
              "      <td>2022-12-15 10:37:35.760</td>\n",
              "      <td>0.03</td>\n",
              "      <td>-0.01</td>\n",
              "      <td>0.99</td>\n",
              "      <td>-0.24</td>\n",
              "      <td>-3.54</td>\n",
              "      <td>-0.31</td>\n",
              "      <td>-12.00</td>\n",
              "      <td>16.31</td>\n",
              "      <td>-42.70</td>\n",
              "      <td>0</td>\n",
              "    </tr>\n",
              "  </tbody>\n",
              "</table>\n",
              "</div>\n",
              "      <button class=\"colab-df-convert\" onclick=\"convertToInteractive('df-7bf0aa70-687e-4fa3-ab58-6c584356f466')\"\n",
              "              title=\"Convert this dataframe to an interactive table.\"\n",
              "              style=\"display:none;\">\n",
              "        \n",
              "  <svg xmlns=\"http://www.w3.org/2000/svg\" height=\"24px\"viewBox=\"0 0 24 24\"\n",
              "       width=\"24px\">\n",
              "    <path d=\"M0 0h24v24H0V0z\" fill=\"none\"/>\n",
              "    <path d=\"M18.56 5.44l.94 2.06.94-2.06 2.06-.94-2.06-.94-.94-2.06-.94 2.06-2.06.94zm-11 1L8.5 8.5l.94-2.06 2.06-.94-2.06-.94L8.5 2.5l-.94 2.06-2.06.94zm10 10l.94 2.06.94-2.06 2.06-.94-2.06-.94-.94-2.06-.94 2.06-2.06.94z\"/><path d=\"M17.41 7.96l-1.37-1.37c-.4-.4-.92-.59-1.43-.59-.52 0-1.04.2-1.43.59L10.3 9.45l-7.72 7.72c-.78.78-.78 2.05 0 2.83L4 21.41c.39.39.9.59 1.41.59.51 0 1.02-.2 1.41-.59l7.78-7.78 2.81-2.81c.8-.78.8-2.07 0-2.86zM5.41 20L4 18.59l7.72-7.72 1.47 1.35L5.41 20z\"/>\n",
              "  </svg>\n",
              "      </button>\n",
              "      \n",
              "  <style>\n",
              "    .colab-df-container {\n",
              "      display:flex;\n",
              "      flex-wrap:wrap;\n",
              "      gap: 12px;\n",
              "    }\n",
              "\n",
              "    .colab-df-convert {\n",
              "      background-color: #E8F0FE;\n",
              "      border: none;\n",
              "      border-radius: 50%;\n",
              "      cursor: pointer;\n",
              "      display: none;\n",
              "      fill: #1967D2;\n",
              "      height: 32px;\n",
              "      padding: 0 0 0 0;\n",
              "      width: 32px;\n",
              "    }\n",
              "\n",
              "    .colab-df-convert:hover {\n",
              "      background-color: #E2EBFA;\n",
              "      box-shadow: 0px 1px 2px rgba(60, 64, 67, 0.3), 0px 1px 3px 1px rgba(60, 64, 67, 0.15);\n",
              "      fill: #174EA6;\n",
              "    }\n",
              "\n",
              "    [theme=dark] .colab-df-convert {\n",
              "      background-color: #3B4455;\n",
              "      fill: #D2E3FC;\n",
              "    }\n",
              "\n",
              "    [theme=dark] .colab-df-convert:hover {\n",
              "      background-color: #434B5C;\n",
              "      box-shadow: 0px 1px 3px 1px rgba(0, 0, 0, 0.15);\n",
              "      filter: drop-shadow(0px 1px 2px rgba(0, 0, 0, 0.3));\n",
              "      fill: #FFFFFF;\n",
              "    }\n",
              "  </style>\n",
              "\n",
              "      <script>\n",
              "        const buttonEl =\n",
              "          document.querySelector('#df-7bf0aa70-687e-4fa3-ab58-6c584356f466 button.colab-df-convert');\n",
              "        buttonEl.style.display =\n",
              "          google.colab.kernel.accessAllowed ? 'block' : 'none';\n",
              "\n",
              "        async function convertToInteractive(key) {\n",
              "          const element = document.querySelector('#df-7bf0aa70-687e-4fa3-ab58-6c584356f466');\n",
              "          const dataTable =\n",
              "            await google.colab.kernel.invokeFunction('convertToInteractive',\n",
              "                                                     [key], {});\n",
              "          if (!dataTable) return;\n",
              "\n",
              "          const docLinkHtml = 'Like what you see? Visit the ' +\n",
              "            '<a target=\"_blank\" href=https://colab.research.google.com/notebooks/data_table.ipynb>data table notebook</a>'\n",
              "            + ' to learn more about interactive tables.';\n",
              "          element.innerHTML = '';\n",
              "          dataTable['output_type'] = 'display_data';\n",
              "          await google.colab.output.renderOutput(dataTable, element);\n",
              "          const docLink = document.createElement('div');\n",
              "          docLink.innerHTML = docLinkHtml;\n",
              "          element.appendChild(docLink);\n",
              "        }\n",
              "      </script>\n",
              "    </div>\n",
              "  </div>\n",
              "  "
            ]
          },
          "metadata": {},
          "execution_count": 12
        }
      ]
    },
    {
      "cell_type": "markdown",
      "metadata": {
        "id": "H5gtQbgCw62w"
      },
      "source": [
        "## New DataFrame : iot_data\n",
        "### Dataframe with date and ax,ay,az,gx,gy,gz,mx,my,mz"
      ]
    },
    {
      "cell_type": "markdown",
      "source": [
        "### [DIY-1] "
      ],
      "metadata": {
        "id": "Bk_q0zf6tuQ9"
      }
    },
    {
      "cell_type": "code",
      "metadata": {
        "id": "5VTfTsldfaGj"
      },
      "source": [
        "#  [DIY-1] select columns\n",
        "cols = ['date','accel_x','accel_y','accel_z','gyro_x','gyro_y','gyro_z','mag_x','mag_y','mag_z']"
      ],
      "execution_count": 13,
      "outputs": []
    },
    {
      "cell_type": "code",
      "metadata": {
        "id": "wLi8PDa_wly3"
      },
      "source": [
        "# Make iot data\n",
        "iot_data = df[cols]"
      ],
      "execution_count": 14,
      "outputs": []
    },
    {
      "cell_type": "code",
      "metadata": {
        "colab": {
          "base_uri": "https://localhost:8080/"
        },
        "id": "NWW0Y_Zswly8",
        "outputId": "b93b12cc-d92f-4596-c485-a12ce79d94f2"
      },
      "source": [
        "iot_data.shape"
      ],
      "execution_count": 15,
      "outputs": [
        {
          "output_type": "execute_result",
          "data": {
            "text/plain": [
              "(30239, 10)"
            ]
          },
          "metadata": {},
          "execution_count": 15
        }
      ]
    },
    {
      "cell_type": "code",
      "metadata": {
        "colab": {
          "base_uri": "https://localhost:8080/",
          "height": 206
        },
        "id": "QrsngVb8wlzA",
        "outputId": "95f23598-8be1-4b8e-a2f6-505d48121c0a"
      },
      "source": [
        "iot_data.head()  # date와 9 개의 신호를 확인."
      ],
      "execution_count": 16,
      "outputs": [
        {
          "output_type": "execute_result",
          "data": {
            "text/plain": [
              "                     date  accel_x  accel_y  accel_z  gyro_x  gyro_y  gyro_z  \\\n",
              "0 2022-12-15 10:37:33.724     0.03    -0.01     0.99   -0.18   -3.54   -0.31   \n",
              "1 2022-12-15 10:37:34.233     0.03    -0.01     0.99   -0.24   -3.60   -0.24   \n",
              "2 2022-12-15 10:37:34.742     0.03    -0.01     0.99   -0.06   -3.54   -0.24   \n",
              "3 2022-12-15 10:37:35.251     0.03    -0.01     0.99   -0.24   -3.48   -0.31   \n",
              "4 2022-12-15 10:37:35.760     0.03    -0.01     0.99   -0.24   -3.54   -0.31   \n",
              "\n",
              "   mag_x  mag_y  mag_z  \n",
              "0 -12.12  16.19 -42.16  \n",
              "1 -11.82  16.52 -41.88  \n",
              "2 -12.05  16.16 -41.75  \n",
              "3 -12.06  16.21 -41.61  \n",
              "4 -12.00  16.31 -42.70  "
            ],
            "text/html": [
              "\n",
              "  <div id=\"df-3956f914-e8ff-4a22-980a-9432accbd9ad\">\n",
              "    <div class=\"colab-df-container\">\n",
              "      <div>\n",
              "<style scoped>\n",
              "    .dataframe tbody tr th:only-of-type {\n",
              "        vertical-align: middle;\n",
              "    }\n",
              "\n",
              "    .dataframe tbody tr th {\n",
              "        vertical-align: top;\n",
              "    }\n",
              "\n",
              "    .dataframe thead th {\n",
              "        text-align: right;\n",
              "    }\n",
              "</style>\n",
              "<table border=\"1\" class=\"dataframe\">\n",
              "  <thead>\n",
              "    <tr style=\"text-align: right;\">\n",
              "      <th></th>\n",
              "      <th>date</th>\n",
              "      <th>accel_x</th>\n",
              "      <th>accel_y</th>\n",
              "      <th>accel_z</th>\n",
              "      <th>gyro_x</th>\n",
              "      <th>gyro_y</th>\n",
              "      <th>gyro_z</th>\n",
              "      <th>mag_x</th>\n",
              "      <th>mag_y</th>\n",
              "      <th>mag_z</th>\n",
              "    </tr>\n",
              "  </thead>\n",
              "  <tbody>\n",
              "    <tr>\n",
              "      <th>0</th>\n",
              "      <td>2022-12-15 10:37:33.724</td>\n",
              "      <td>0.03</td>\n",
              "      <td>-0.01</td>\n",
              "      <td>0.99</td>\n",
              "      <td>-0.18</td>\n",
              "      <td>-3.54</td>\n",
              "      <td>-0.31</td>\n",
              "      <td>-12.12</td>\n",
              "      <td>16.19</td>\n",
              "      <td>-42.16</td>\n",
              "    </tr>\n",
              "    <tr>\n",
              "      <th>1</th>\n",
              "      <td>2022-12-15 10:37:34.233</td>\n",
              "      <td>0.03</td>\n",
              "      <td>-0.01</td>\n",
              "      <td>0.99</td>\n",
              "      <td>-0.24</td>\n",
              "      <td>-3.60</td>\n",
              "      <td>-0.24</td>\n",
              "      <td>-11.82</td>\n",
              "      <td>16.52</td>\n",
              "      <td>-41.88</td>\n",
              "    </tr>\n",
              "    <tr>\n",
              "      <th>2</th>\n",
              "      <td>2022-12-15 10:37:34.742</td>\n",
              "      <td>0.03</td>\n",
              "      <td>-0.01</td>\n",
              "      <td>0.99</td>\n",
              "      <td>-0.06</td>\n",
              "      <td>-3.54</td>\n",
              "      <td>-0.24</td>\n",
              "      <td>-12.05</td>\n",
              "      <td>16.16</td>\n",
              "      <td>-41.75</td>\n",
              "    </tr>\n",
              "    <tr>\n",
              "      <th>3</th>\n",
              "      <td>2022-12-15 10:37:35.251</td>\n",
              "      <td>0.03</td>\n",
              "      <td>-0.01</td>\n",
              "      <td>0.99</td>\n",
              "      <td>-0.24</td>\n",
              "      <td>-3.48</td>\n",
              "      <td>-0.31</td>\n",
              "      <td>-12.06</td>\n",
              "      <td>16.21</td>\n",
              "      <td>-41.61</td>\n",
              "    </tr>\n",
              "    <tr>\n",
              "      <th>4</th>\n",
              "      <td>2022-12-15 10:37:35.760</td>\n",
              "      <td>0.03</td>\n",
              "      <td>-0.01</td>\n",
              "      <td>0.99</td>\n",
              "      <td>-0.24</td>\n",
              "      <td>-3.54</td>\n",
              "      <td>-0.31</td>\n",
              "      <td>-12.00</td>\n",
              "      <td>16.31</td>\n",
              "      <td>-42.70</td>\n",
              "    </tr>\n",
              "  </tbody>\n",
              "</table>\n",
              "</div>\n",
              "      <button class=\"colab-df-convert\" onclick=\"convertToInteractive('df-3956f914-e8ff-4a22-980a-9432accbd9ad')\"\n",
              "              title=\"Convert this dataframe to an interactive table.\"\n",
              "              style=\"display:none;\">\n",
              "        \n",
              "  <svg xmlns=\"http://www.w3.org/2000/svg\" height=\"24px\"viewBox=\"0 0 24 24\"\n",
              "       width=\"24px\">\n",
              "    <path d=\"M0 0h24v24H0V0z\" fill=\"none\"/>\n",
              "    <path d=\"M18.56 5.44l.94 2.06.94-2.06 2.06-.94-2.06-.94-.94-2.06-.94 2.06-2.06.94zm-11 1L8.5 8.5l.94-2.06 2.06-.94-2.06-.94L8.5 2.5l-.94 2.06-2.06.94zm10 10l.94 2.06.94-2.06 2.06-.94-2.06-.94-.94-2.06-.94 2.06-2.06.94z\"/><path d=\"M17.41 7.96l-1.37-1.37c-.4-.4-.92-.59-1.43-.59-.52 0-1.04.2-1.43.59L10.3 9.45l-7.72 7.72c-.78.78-.78 2.05 0 2.83L4 21.41c.39.39.9.59 1.41.59.51 0 1.02-.2 1.41-.59l7.78-7.78 2.81-2.81c.8-.78.8-2.07 0-2.86zM5.41 20L4 18.59l7.72-7.72 1.47 1.35L5.41 20z\"/>\n",
              "  </svg>\n",
              "      </button>\n",
              "      \n",
              "  <style>\n",
              "    .colab-df-container {\n",
              "      display:flex;\n",
              "      flex-wrap:wrap;\n",
              "      gap: 12px;\n",
              "    }\n",
              "\n",
              "    .colab-df-convert {\n",
              "      background-color: #E8F0FE;\n",
              "      border: none;\n",
              "      border-radius: 50%;\n",
              "      cursor: pointer;\n",
              "      display: none;\n",
              "      fill: #1967D2;\n",
              "      height: 32px;\n",
              "      padding: 0 0 0 0;\n",
              "      width: 32px;\n",
              "    }\n",
              "\n",
              "    .colab-df-convert:hover {\n",
              "      background-color: #E2EBFA;\n",
              "      box-shadow: 0px 1px 2px rgba(60, 64, 67, 0.3), 0px 1px 3px 1px rgba(60, 64, 67, 0.15);\n",
              "      fill: #174EA6;\n",
              "    }\n",
              "\n",
              "    [theme=dark] .colab-df-convert {\n",
              "      background-color: #3B4455;\n",
              "      fill: #D2E3FC;\n",
              "    }\n",
              "\n",
              "    [theme=dark] .colab-df-convert:hover {\n",
              "      background-color: #434B5C;\n",
              "      box-shadow: 0px 1px 3px 1px rgba(0, 0, 0, 0.15);\n",
              "      filter: drop-shadow(0px 1px 2px rgba(0, 0, 0, 0.3));\n",
              "      fill: #FFFFFF;\n",
              "    }\n",
              "  </style>\n",
              "\n",
              "      <script>\n",
              "        const buttonEl =\n",
              "          document.querySelector('#df-3956f914-e8ff-4a22-980a-9432accbd9ad button.colab-df-convert');\n",
              "        buttonEl.style.display =\n",
              "          google.colab.kernel.accessAllowed ? 'block' : 'none';\n",
              "\n",
              "        async function convertToInteractive(key) {\n",
              "          const element = document.querySelector('#df-3956f914-e8ff-4a22-980a-9432accbd9ad');\n",
              "          const dataTable =\n",
              "            await google.colab.kernel.invokeFunction('convertToInteractive',\n",
              "                                                     [key], {});\n",
              "          if (!dataTable) return;\n",
              "\n",
              "          const docLinkHtml = 'Like what you see? Visit the ' +\n",
              "            '<a target=\"_blank\" href=https://colab.research.google.com/notebooks/data_table.ipynb>data table notebook</a>'\n",
              "            + ' to learn more about interactive tables.';\n",
              "          element.innerHTML = '';\n",
              "          dataTable['output_type'] = 'display_data';\n",
              "          await google.colab.output.renderOutput(dataTable, element);\n",
              "          const docLink = document.createElement('div');\n",
              "          docLink.innerHTML = docLinkHtml;\n",
              "          element.appendChild(docLink);\n",
              "        }\n",
              "      </script>\n",
              "    </div>\n",
              "  </div>\n",
              "  "
            ]
          },
          "metadata": {},
          "execution_count": 16
        }
      ]
    },
    {
      "cell_type": "code",
      "metadata": {
        "colab": {
          "base_uri": "https://localhost:8080/"
        },
        "id": "ZI7ggvWpwlzG",
        "outputId": "2314471c-5758-46c6-8391-334b88334511"
      },
      "source": [
        "iot_data.info()"
      ],
      "execution_count": 17,
      "outputs": [
        {
          "output_type": "stream",
          "name": "stdout",
          "text": [
            "<class 'pandas.core.frame.DataFrame'>\n",
            "RangeIndex: 30239 entries, 0 to 30238\n",
            "Data columns (total 10 columns):\n",
            " #   Column   Non-Null Count  Dtype         \n",
            "---  ------   --------------  -----         \n",
            " 0   date     30239 non-null  datetime64[ns]\n",
            " 1   accel_x  30239 non-null  float64       \n",
            " 2   accel_y  30239 non-null  float64       \n",
            " 3   accel_z  30239 non-null  float64       \n",
            " 4   gyro_x   30239 non-null  float64       \n",
            " 5   gyro_y   30239 non-null  float64       \n",
            " 6   gyro_z   30239 non-null  float64       \n",
            " 7   mag_x    30239 non-null  float64       \n",
            " 8   mag_y    30239 non-null  float64       \n",
            " 9   mag_z    30239 non-null  float64       \n",
            "dtypes: datetime64[ns](1), float64(9)\n",
            "memory usage: 2.3 MB\n"
          ]
        }
      ]
    },
    {
      "cell_type": "code",
      "metadata": {
        "colab": {
          "base_uri": "https://localhost:8080/"
        },
        "id": "YlYSuLHMdX3_",
        "outputId": "13ed8073-c45c-4b1e-c517-f03bf9c5e054"
      },
      "source": [
        "iot_data.isna().sum()"
      ],
      "execution_count": 18,
      "outputs": [
        {
          "output_type": "execute_result",
          "data": {
            "text/plain": [
              "date       0\n",
              "accel_x    0\n",
              "accel_y    0\n",
              "accel_z    0\n",
              "gyro_x     0\n",
              "gyro_y     0\n",
              "gyro_z     0\n",
              "mag_x      0\n",
              "mag_y      0\n",
              "mag_z      0\n",
              "dtype: int64"
            ]
          },
          "metadata": {},
          "execution_count": 18
        }
      ]
    },
    {
      "cell_type": "code",
      "metadata": {
        "id": "sKH2MLA7lxjh"
      },
      "source": [
        "# Save iot data in csv file.\n",
        "iot_data.to_csv('iot_nano33imu_221215.csv')"
      ],
      "execution_count": 19,
      "outputs": []
    },
    {
      "cell_type": "markdown",
      "metadata": {
        "id": "tqGuXzIPfYbZ"
      },
      "source": [
        "## EDA (Exploratory Data Analysis, 탐색적 자료 분석) "
      ]
    },
    {
      "cell_type": "code",
      "metadata": {
        "colab": {
          "base_uri": "https://localhost:8080/",
          "height": 309
        },
        "id": "2QB6w7uvuN6R",
        "outputId": "6bb90a03-6590-45fc-b9b6-ced24ac2da0a"
      },
      "source": [
        "# Plot boxplot\n",
        "iot_data.iloc[:,1:].plot.box(title='Boxplot of all signals')\n",
        "plt.xticks(rotation=60)\n",
        "plt.show()"
      ],
      "execution_count": 20,
      "outputs": [
        {
          "output_type": "display_data",
          "data": {
            "text/plain": [
              "<Figure size 432x288 with 1 Axes>"
            ],
            "image/png": "[encoded data removed]"
          },
          "metadata": {
            "needs_background": "light"
          }
        }
      ]
    },
    {
      "cell_type": "markdown",
      "metadata": {
        "id": "feFqm_ocxRjV"
      },
      "source": [
        "### Plot time series of sensor data"
      ]
    },
    {
      "cell_type": "code",
      "metadata": {
        "colab": {
          "base_uri": "https://localhost:8080/",
          "height": 357
        },
        "id": "AM_CyVjawlzM",
        "outputId": "8e19fd15-510f-4d86-be49-902a31774e58"
      },
      "source": [
        "iot_data.plot(x='date', y='accel_x', figsize=(10,5), title='Ax')\n",
        "plt.xticks(rotation=90)\n",
        "plt.show()"
      ],
      "execution_count": 21,
      "outputs": [
        {
          "output_type": "display_data",
          "data": {
            "text/plain": [
              "<Figure size 720x360 with 1 Axes>"
            ],
            "image/png": "[encoded data removed]"
          },
          "metadata": {
            "needs_background": "light"
          }
        }
      ]
    },
    {
      "cell_type": "code",
      "metadata": {
        "colab": {
          "base_uri": "https://localhost:8080/",
          "height": 357
        },
        "id": "MbaBO6uRKCjj",
        "outputId": "0635f988-a207-40e1-b02f-28da196cde4e"
      },
      "source": [
        "iot_data.plot(x='date', y='gyro_x', figsize=(10,5), title='Gx')\n",
        "plt.xticks(rotation=90)\n",
        "plt.show()"
      ],
      "execution_count": 22,
      "outputs": [
        {
          "output_type": "display_data",
          "data": {
            "text/plain": [
              "<Figure size 720x360 with 1 Axes>"
            ],
            "image/png": "[encoded data removed]"
          },
          "metadata": {
            "needs_background": "light"
          }
        }
      ]
    },
    {
      "cell_type": "markdown",
      "metadata": {
        "id": "4W2OVUXZ0eKc"
      },
      "source": [
        "#### 다중그래프 (multiple graphs)"
      ]
    },
    {
      "cell_type": "code",
      "metadata": {
        "colab": {
          "base_uri": "https://localhost:8080/",
          "height": 362
        },
        "id": "7XiF7ghFwlzc",
        "outputId": "63dcb094-95bc-4290-fc60-5a504108a482"
      },
      "source": [
        "# 3축 가속도를 아래에 그리시오.\n",
        "iot_data.plot(x='date', y=['accel_x','accel_y','accel_z'], figsize=(10,5), title='Ax, Ay, Az')"
      ],
      "execution_count": 23,
      "outputs": [
        {
          "output_type": "execute_result",
          "data": {
            "text/plain": [
              "<matplotlib.axes._subplots.AxesSubplot at 0x7f7fb857ce50>"
            ]
          },
          "metadata": {},
          "execution_count": 23
        },
        {
          "output_type": "display_data",
          "data": {
            "text/plain": [
              "<Figure size 720x360 with 1 Axes>"
            ],
            "image/png": "[encoded data removed]"
          },
          "metadata": {
            "needs_background": "light"
          }
        }
      ]
    },
    {
      "cell_type": "markdown",
      "source": [
        "### [DIY-2] "
      ],
      "metadata": {
        "id": "vTrobcQvui61"
      }
    },
    {
      "cell_type": "code",
      "metadata": {
        "colab": {
          "base_uri": "https://localhost:8080/",
          "height": 362
        },
        "outputId": "a4de7975-ba53-4733-8c25-5fe98b13578a",
        "id": "VcaWhpJKvCIr"
      },
      "source": [
        "# 3축 자이로 신호를 아래에 그리시오.\n",
        "iot_data.plot(x='date', y=['gyro_x','gyro_y','gyro_z'] , figsize=(10,5), title='Gx, Gy, Gz')"
      ],
      "execution_count": 24,
      "outputs": [
        {
          "output_type": "execute_result",
          "data": {
            "text/plain": [
              "<matplotlib.axes._subplots.AxesSubplot at 0x7f7fb8aa0ee0>"
            ]
          },
          "metadata": {},
          "execution_count": 24
        },
        {
          "output_type": "display_data",
          "data": {
            "text/plain": [
              "<Figure size 720x360 with 1 Axes>"
            ],
            "image/png": "[encoded data removed]"
          },
          "metadata": {
            "needs_background": "light"
          }
        }
      ]
    },
    {
      "cell_type": "markdown",
      "source": [
        "### [DIY-3] "
      ],
      "metadata": {
        "id": "DwG4n6g-wRN4"
      }
    },
    {
      "cell_type": "code",
      "metadata": {
        "colab": {
          "base_uri": "https://localhost:8080/",
          "height": 362
        },
        "outputId": "b477b75d-136f-4336-89ef-9ed9220a5525",
        "id": "qbZXM16Vvbcv"
      },
      "source": [
        "# Ax, Gx,Mx 신호를 아래에 그리시오.\n",
        "iot_data.plot(x='date', y=['accel_x','gyro_x','mag_x'] , figsize=(10,5), title='Ax, Gx, Mx')"
      ],
      "execution_count": 26,
      "outputs": [
        {
          "output_type": "execute_result",
          "data": {
            "text/plain": [
              "<matplotlib.axes._subplots.AxesSubplot at 0x7f7fb7779f70>"
            ]
          },
          "metadata": {},
          "execution_count": 26
        },
        {
          "output_type": "display_data",
          "data": {
            "text/plain": [
              "<Figure size 720x360 with 1 Axes>"
            ],
            "image/png": "[encoded data removed]"
          },
          "metadata": {
            "needs_background": "light"
          }
        }
      ]
    },
    {
      "cell_type": "markdown",
      "metadata": {
        "id": "6yaOaE05xthv"
      },
      "source": [
        "### Plot the mean of sensor data\n",
        "### [DIY-4] 아래 코드를 참조해서 Az,Gz,Mz의 평균을 구하고 막대 그래프로 그리시오."
      ]
    },
    {
      "cell_type": "code",
      "metadata": {
        "colab": {
          "base_uri": "https://localhost:8080/"
        },
        "id": "455qOpbbwlzp",
        "outputId": "41c73c8a-6727-4198-827c-51d639daf335"
      },
      "source": [
        "iot_data[['accel_z','gyro_z','mag_z']].mean()  "
      ],
      "execution_count": 27,
      "outputs": [
        {
          "output_type": "execute_result",
          "data": {
            "text/plain": [
              "accel_z     0.938262\n",
              "gyro_z     -0.306175\n",
              "mag_z     -50.721206\n",
              "dtype: float64"
            ]
          },
          "metadata": {},
          "execution_count": 27
        }
      ]
    },
    {
      "cell_type": "code",
      "metadata": {
        "colab": {
          "base_uri": "https://localhost:8080/",
          "height": 380
        },
        "id": "26ZUc5ULwlzw",
        "outputId": "65324405-0e83-4f7f-955a-c510d651d902"
      },
      "source": [
        "iot_data[['accel_z','gyro_z','mag_z']].mean().plot.bar(figsize=(8,5), \n",
        "                                                                  title=\"Mean of temperature, humidity, and luminosity\")"
      ],
      "execution_count": 28,
      "outputs": [
        {
          "output_type": "execute_result",
          "data": {
            "text/plain": [
              "<matplotlib.axes._subplots.AxesSubplot at 0x7f7fb8b5b4f0>"
            ]
          },
          "metadata": {},
          "execution_count": 28
        },
        {
          "output_type": "display_data",
          "data": {
            "text/plain": [
              "<Figure size 576x360 with 1 Axes>"
            ],
            "image/png": "[encoded data removed]"
          },
          "metadata": {
            "needs_background": "light"
          }
        }
      ]
    },
    {
      "cell_type": "markdown",
      "metadata": {
        "id": "DwAOwL1kdEUn"
      },
      "source": [
        "# Advanced graphics using pandas"
      ]
    },
    {
      "cell_type": "markdown",
      "metadata": {
        "id": "LxgcWZ2wx6TQ"
      },
      "source": [
        "### Plot the change of sensor data over various time spans.\n",
        "\n",
        "> time span: 60 sec, 1 hour, 1 day, $\\cdots$"
      ]
    },
    {
      "cell_type": "code",
      "metadata": {
        "id": "xopxI05ggHJb",
        "colab": {
          "base_uri": "https://localhost:8080/",
          "height": 206
        },
        "outputId": "1e1f749e-1ac0-42c0-de29-dd327db79cd3"
      },
      "source": [
        "iot_data.head()"
      ],
      "execution_count": 29,
      "outputs": [
        {
          "output_type": "execute_result",
          "data": {
            "text/plain": [
              "                     date  accel_x  accel_y  accel_z  gyro_x  gyro_y  gyro_z  \\\n",
              "0 2022-12-15 10:37:33.724     0.03    -0.01     0.99   -0.18   -3.54   -0.31   \n",
              "1 2022-12-15 10:37:34.233     0.03    -0.01     0.99   -0.24   -3.60   -0.24   \n",
              "2 2022-12-15 10:37:34.742     0.03    -0.01     0.99   -0.06   -3.54   -0.24   \n",
              "3 2022-12-15 10:37:35.251     0.03    -0.01     0.99   -0.24   -3.48   -0.31   \n",
              "4 2022-12-15 10:37:35.760     0.03    -0.01     0.99   -0.24   -3.54   -0.31   \n",
              "\n",
              "   mag_x  mag_y  mag_z  \n",
              "0 -12.12  16.19 -42.16  \n",
              "1 -11.82  16.52 -41.88  \n",
              "2 -12.05  16.16 -41.75  \n",
              "3 -12.06  16.21 -41.61  \n",
              "4 -12.00  16.31 -42.70  "
            ],
            "text/html": [
              "\n",
              "  <div id=\"df-8426483e-3320-48d9-a4bf-727b5b876568\">\n",
              "    <div class=\"colab-df-container\">\n",
              "      <div>\n",
              "<style scoped>\n",
              "    .dataframe tbody tr th:only-of-type {\n",
              "        vertical-align: middle;\n",
              "    }\n",
              "\n",
              "    .dataframe tbody tr th {\n",
              "        vertical-align: top;\n",
              "    }\n",
              "\n",
              "    .dataframe thead th {\n",
              "        text-align: right;\n",
              "    }\n",
              "</style>\n",
              "<table border=\"1\" class=\"dataframe\">\n",
              "  <thead>\n",
              "    <tr style=\"text-align: right;\">\n",
              "      <th></th>\n",
              "      <th>date</th>\n",
              "      <th>accel_x</th>\n",
              "      <th>accel_y</th>\n",
              "      <th>accel_z</th>\n",
              "      <th>gyro_x</th>\n",
              "      <th>gyro_y</th>\n",
              "      <th>gyro_z</th>\n",
              "      <th>mag_x</th>\n",
              "      <th>mag_y</th>\n",
              "      <th>mag_z</th>\n",
              "    </tr>\n",
              "  </thead>\n",
              "  <tbody>\n",
              "    <tr>\n",
              "      <th>0</th>\n",
              "      <td>2022-12-15 10:37:33.724</td>\n",
              "      <td>0.03</td>\n",
              "      <td>-0.01</td>\n",
              "      <td>0.99</td>\n",
              "      <td>-0.18</td>\n",
              "      <td>-3.54</td>\n",
              "      <td>-0.31</td>\n",
              "      <td>-12.12</td>\n",
              "      <td>16.19</td>\n",
              "      <td>-42.16</td>\n",
              "    </tr>\n",
              "    <tr>\n",
              "      <th>1</th>\n",
              "      <td>2022-12-15 10:37:34.233</td>\n",
              "      <td>0.03</td>\n",
              "      <td>-0.01</td>\n",
              "      <td>0.99</td>\n",
              "      <td>-0.24</td>\n",
              "      <td>-3.60</td>\n",
              "      <td>-0.24</td>\n",
              "      <td>-11.82</td>\n",
              "      <td>16.52</td>\n",
              "      <td>-41.88</td>\n",
              "    </tr>\n",
              "    <tr>\n",
              "      <th>2</th>\n",
              "      <td>2022-12-15 10:37:34.742</td>\n",
              "      <td>0.03</td>\n",
              "      <td>-0.01</td>\n",
              "      <td>0.99</td>\n",
              "      <td>-0.06</td>\n",
              "      <td>-3.54</td>\n",
              "      <td>-0.24</td>\n",
              "      <td>-12.05</td>\n",
              "      <td>16.16</td>\n",
              "      <td>-41.75</td>\n",
              "    </tr>\n",
              "    <tr>\n",
              "      <th>3</th>\n",
              "      <td>2022-12-15 10:37:35.251</td>\n",
              "      <td>0.03</td>\n",
              "      <td>-0.01</td>\n",
              "      <td>0.99</td>\n",
              "      <td>-0.24</td>\n",
              "      <td>-3.48</td>\n",
              "      <td>-0.31</td>\n",
              "      <td>-12.06</td>\n",
              "      <td>16.21</td>\n",
              "      <td>-41.61</td>\n",
              "    </tr>\n",
              "    <tr>\n",
              "      <th>4</th>\n",
              "      <td>2022-12-15 10:37:35.760</td>\n",
              "      <td>0.03</td>\n",
              "      <td>-0.01</td>\n",
              "      <td>0.99</td>\n",
              "      <td>-0.24</td>\n",
              "      <td>-3.54</td>\n",
              "      <td>-0.31</td>\n",
              "      <td>-12.00</td>\n",
              "      <td>16.31</td>\n",
              "      <td>-42.70</td>\n",
              "    </tr>\n",
              "  </tbody>\n",
              "</table>\n",
              "</div>\n",
              "      <button class=\"colab-df-convert\" onclick=\"convertToInteractive('df-8426483e-3320-48d9-a4bf-727b5b876568')\"\n",
              "              title=\"Convert this dataframe to an interactive table.\"\n",
              "              style=\"display:none;\">\n",
              "        \n",
              "  <svg xmlns=\"http://www.w3.org/2000/svg\" height=\"24px\"viewBox=\"0 0 24 24\"\n",
              "       width=\"24px\">\n",
              "    <path d=\"M0 0h24v24H0V0z\" fill=\"none\"/>\n",
              "    <path d=\"M18.56 5.44l.94 2.06.94-2.06 2.06-.94-2.06-.94-.94-2.06-.94 2.06-2.06.94zm-11 1L8.5 8.5l.94-2.06 2.06-.94-2.06-.94L8.5 2.5l-.94 2.06-2.06.94zm10 10l.94 2.06.94-2.06 2.06-.94-2.06-.94-.94-2.06-.94 2.06-2.06.94z\"/><path d=\"M17.41 7.96l-1.37-1.37c-.4-.4-.92-.59-1.43-.59-.52 0-1.04.2-1.43.59L10.3 9.45l-7.72 7.72c-.78.78-.78 2.05 0 2.83L4 21.41c.39.39.9.59 1.41.59.51 0 1.02-.2 1.41-.59l7.78-7.78 2.81-2.81c.8-.78.8-2.07 0-2.86zM5.41 20L4 18.59l7.72-7.72 1.47 1.35L5.41 20z\"/>\n",
              "  </svg>\n",
              "      </button>\n",
              "      \n",
              "  <style>\n",
              "    .colab-df-container {\n",
              "      display:flex;\n",
              "      flex-wrap:wrap;\n",
              "      gap: 12px;\n",
              "    }\n",
              "\n",
              "    .colab-df-convert {\n",
              "      background-color: #E8F0FE;\n",
              "      border: none;\n",
              "      border-radius: 50%;\n",
              "      cursor: pointer;\n",
              "      display: none;\n",
              "      fill: #1967D2;\n",
              "      height: 32px;\n",
              "      padding: 0 0 0 0;\n",
              "      width: 32px;\n",
              "    }\n",
              "\n",
              "    .colab-df-convert:hover {\n",
              "      background-color: #E2EBFA;\n",
              "      box-shadow: 0px 1px 2px rgba(60, 64, 67, 0.3), 0px 1px 3px 1px rgba(60, 64, 67, 0.15);\n",
              "      fill: #174EA6;\n",
              "    }\n",
              "\n",
              "    [theme=dark] .colab-df-convert {\n",
              "      background-color: #3B4455;\n",
              "      fill: #D2E3FC;\n",
              "    }\n",
              "\n",
              "    [theme=dark] .colab-df-convert:hover {\n",
              "      background-color: #434B5C;\n",
              "      box-shadow: 0px 1px 3px 1px rgba(0, 0, 0, 0.15);\n",
              "      filter: drop-shadow(0px 1px 2px rgba(0, 0, 0, 0.3));\n",
              "      fill: #FFFFFF;\n",
              "    }\n",
              "  </style>\n",
              "\n",
              "      <script>\n",
              "        const buttonEl =\n",
              "          document.querySelector('#df-8426483e-3320-48d9-a4bf-727b5b876568 button.colab-df-convert');\n",
              "        buttonEl.style.display =\n",
              "          google.colab.kernel.accessAllowed ? 'block' : 'none';\n",
              "\n",
              "        async function convertToInteractive(key) {\n",
              "          const element = document.querySelector('#df-8426483e-3320-48d9-a4bf-727b5b876568');\n",
              "          const dataTable =\n",
              "            await google.colab.kernel.invokeFunction('convertToInteractive',\n",
              "                                                     [key], {});\n",
              "          if (!dataTable) return;\n",
              "\n",
              "          const docLinkHtml = 'Like what you see? Visit the ' +\n",
              "            '<a target=\"_blank\" href=https://colab.research.google.com/notebooks/data_table.ipynb>data table notebook</a>'\n",
              "            + ' to learn more about interactive tables.';\n",
              "          element.innerHTML = '';\n",
              "          dataTable['output_type'] = 'display_data';\n",
              "          await google.colab.output.renderOutput(dataTable, element);\n",
              "          const docLink = document.createElement('div');\n",
              "          docLink.innerHTML = docLinkHtml;\n",
              "          element.appendChild(docLink);\n",
              "        }\n",
              "      </script>\n",
              "    </div>\n",
              "  </div>\n",
              "  "
            ]
          },
          "metadata": {},
          "execution_count": 29
        }
      ]
    },
    {
      "cell_type": "markdown",
      "metadata": {
        "id": "ndt4b_ZTwlz1"
      },
      "source": [
        "#### Set date as index of timestamp"
      ]
    },
    {
      "cell_type": "code",
      "metadata": {
        "id": "V6MpkrDhwlz2"
      },
      "source": [
        "iot_data.set_index('date',inplace=True)"
      ],
      "execution_count": 30,
      "outputs": []
    },
    {
      "cell_type": "code",
      "metadata": {
        "colab": {
          "base_uri": "https://localhost:8080/",
          "height": 238
        },
        "id": "w9ztE8jDUAta",
        "outputId": "19c14cac-0b5d-40ca-c940-7b29b584b040"
      },
      "source": [
        "iot_data.head()"
      ],
      "execution_count": 31,
      "outputs": [
        {
          "output_type": "execute_result",
          "data": {
            "text/plain": [
              "                         accel_x  accel_y  accel_z  gyro_x  gyro_y  gyro_z  \\\n",
              "date                                                                         \n",
              "2022-12-15 10:37:33.724     0.03    -0.01     0.99   -0.18   -3.54   -0.31   \n",
              "2022-12-15 10:37:34.233     0.03    -0.01     0.99   -0.24   -3.60   -0.24   \n",
              "2022-12-15 10:37:34.742     0.03    -0.01     0.99   -0.06   -3.54   -0.24   \n",
              "2022-12-15 10:37:35.251     0.03    -0.01     0.99   -0.24   -3.48   -0.31   \n",
              "2022-12-15 10:37:35.760     0.03    -0.01     0.99   -0.24   -3.54   -0.31   \n",
              "\n",
              "                         mag_x  mag_y  mag_z  \n",
              "date                                          \n",
              "2022-12-15 10:37:33.724 -12.12  16.19 -42.16  \n",
              "2022-12-15 10:37:34.233 -11.82  16.52 -41.88  \n",
              "2022-12-15 10:37:34.742 -12.05  16.16 -41.75  \n",
              "2022-12-15 10:37:35.251 -12.06  16.21 -41.61  \n",
              "2022-12-15 10:37:35.760 -12.00  16.31 -42.70  "
            ],
            "text/html": [
              "\n",
              "  <div id=\"df-cf4bc0e9-fc0d-406b-8f5a-761d2bb6c3f3\">\n",
              "    <div class=\"colab-df-container\">\n",
              "      <div>\n",
              "<style scoped>\n",
              "    .dataframe tbody tr th:only-of-type {\n",
              "        vertical-align: middle;\n",
              "    }\n",
              "\n",
              "    .dataframe tbody tr th {\n",
              "        vertical-align: top;\n",
              "    }\n",
              "\n",
              "    .dataframe thead th {\n",
              "        text-align: right;\n",
              "    }\n",
              "</style>\n",
              "<table border=\"1\" class=\"dataframe\">\n",
              "  <thead>\n",
              "    <tr style=\"text-align: right;\">\n",
              "      <th></th>\n",
              "      <th>accel_x</th>\n",
              "      <th>accel_y</th>\n",
              "      <th>accel_z</th>\n",
              "      <th>gyro_x</th>\n",
              "      <th>gyro_y</th>\n",
              "      <th>gyro_z</th>\n",
              "      <th>mag_x</th>\n",
              "      <th>mag_y</th>\n",
              "      <th>mag_z</th>\n",
              "    </tr>\n",
              "    <tr>\n",
              "      <th>date</th>\n",
              "      <th></th>\n",
              "      <th></th>\n",
              "      <th></th>\n",
              "      <th></th>\n",
              "      <th></th>\n",
              "      <th></th>\n",
              "      <th></th>\n",
              "      <th></th>\n",
              "      <th></th>\n",
              "    </tr>\n",
              "  </thead>\n",
              "  <tbody>\n",
              "    <tr>\n",
              "      <th>2022-12-15 10:37:33.724</th>\n",
              "      <td>0.03</td>\n",
              "      <td>-0.01</td>\n",
              "      <td>0.99</td>\n",
              "      <td>-0.18</td>\n",
              "      <td>-3.54</td>\n",
              "      <td>-0.31</td>\n",
              "      <td>-12.12</td>\n",
              "      <td>16.19</td>\n",
              "      <td>-42.16</td>\n",
              "    </tr>\n",
              "    <tr>\n",
              "      <th>2022-12-15 10:37:34.233</th>\n",
              "      <td>0.03</td>\n",
              "      <td>-0.01</td>\n",
              "      <td>0.99</td>\n",
              "      <td>-0.24</td>\n",
              "      <td>-3.60</td>\n",
              "      <td>-0.24</td>\n",
              "      <td>-11.82</td>\n",
              "      <td>16.52</td>\n",
              "      <td>-41.88</td>\n",
              "    </tr>\n",
              "    <tr>\n",
              "      <th>2022-12-15 10:37:34.742</th>\n",
              "      <td>0.03</td>\n",
              "      <td>-0.01</td>\n",
              "      <td>0.99</td>\n",
              "      <td>-0.06</td>\n",
              "      <td>-3.54</td>\n",
              "      <td>-0.24</td>\n",
              "      <td>-12.05</td>\n",
              "      <td>16.16</td>\n",
              "      <td>-41.75</td>\n",
              "    </tr>\n",
              "    <tr>\n",
              "      <th>2022-12-15 10:37:35.251</th>\n",
              "      <td>0.03</td>\n",
              "      <td>-0.01</td>\n",
              "      <td>0.99</td>\n",
              "      <td>-0.24</td>\n",
              "      <td>-3.48</td>\n",
              "      <td>-0.31</td>\n",
              "      <td>-12.06</td>\n",
              "      <td>16.21</td>\n",
              "      <td>-41.61</td>\n",
              "    </tr>\n",
              "    <tr>\n",
              "      <th>2022-12-15 10:37:35.760</th>\n",
              "      <td>0.03</td>\n",
              "      <td>-0.01</td>\n",
              "      <td>0.99</td>\n",
              "      <td>-0.24</td>\n",
              "      <td>-3.54</td>\n",
              "      <td>-0.31</td>\n",
              "      <td>-12.00</td>\n",
              "      <td>16.31</td>\n",
              "      <td>-42.70</td>\n",
              "    </tr>\n",
              "  </tbody>\n",
              "</table>\n",
              "</div>\n",
              "      <button class=\"colab-df-convert\" onclick=\"convertToInteractive('df-cf4bc0e9-fc0d-406b-8f5a-761d2bb6c3f3')\"\n",
              "              title=\"Convert this dataframe to an interactive table.\"\n",
              "              style=\"display:none;\">\n",
              "        \n",
              "  <svg xmlns=\"http://www.w3.org/2000/svg\" height=\"24px\"viewBox=\"0 0 24 24\"\n",
              "       width=\"24px\">\n",
              "    <path d=\"M0 0h24v24H0V0z\" fill=\"none\"/>\n",
              "    <path d=\"M18.56 5.44l.94 2.06.94-2.06 2.06-.94-2.06-.94-.94-2.06-.94 2.06-2.06.94zm-11 1L8.5 8.5l.94-2.06 2.06-.94-2.06-.94L8.5 2.5l-.94 2.06-2.06.94zm10 10l.94 2.06.94-2.06 2.06-.94-2.06-.94-.94-2.06-.94 2.06-2.06.94z\"/><path d=\"M17.41 7.96l-1.37-1.37c-.4-.4-.92-.59-1.43-.59-.52 0-1.04.2-1.43.59L10.3 9.45l-7.72 7.72c-.78.78-.78 2.05 0 2.83L4 21.41c.39.39.9.59 1.41.59.51 0 1.02-.2 1.41-.59l7.78-7.78 2.81-2.81c.8-.78.8-2.07 0-2.86zM5.41 20L4 18.59l7.72-7.72 1.47 1.35L5.41 20z\"/>\n",
              "  </svg>\n",
              "      </button>\n",
              "      \n",
              "  <style>\n",
              "    .colab-df-container {\n",
              "      display:flex;\n",
              "      flex-wrap:wrap;\n",
              "      gap: 12px;\n",
              "    }\n",
              "\n",
              "    .colab-df-convert {\n",
              "      background-color: #E8F0FE;\n",
              "      border: none;\n",
              "      border-radius: 50%;\n",
              "      cursor: pointer;\n",
              "      display: none;\n",
              "      fill: #1967D2;\n",
              "      height: 32px;\n",
              "      padding: 0 0 0 0;\n",
              "      width: 32px;\n",
              "    }\n",
              "\n",
              "    .colab-df-convert:hover {\n",
              "      background-color: #E2EBFA;\n",
              "      box-shadow: 0px 1px 2px rgba(60, 64, 67, 0.3), 0px 1px 3px 1px rgba(60, 64, 67, 0.15);\n",
              "      fill: #174EA6;\n",
              "    }\n",
              "\n",
              "    [theme=dark] .colab-df-convert {\n",
              "      background-color: #3B4455;\n",
              "      fill: #D2E3FC;\n",
              "    }\n",
              "\n",
              "    [theme=dark] .colab-df-convert:hover {\n",
              "      background-color: #434B5C;\n",
              "      box-shadow: 0px 1px 3px 1px rgba(0, 0, 0, 0.15);\n",
              "      filter: drop-shadow(0px 1px 2px rgba(0, 0, 0, 0.3));\n",
              "      fill: #FFFFFF;\n",
              "    }\n",
              "  </style>\n",
              "\n",
              "      <script>\n",
              "        const buttonEl =\n",
              "          document.querySelector('#df-cf4bc0e9-fc0d-406b-8f5a-761d2bb6c3f3 button.colab-df-convert');\n",
              "        buttonEl.style.display =\n",
              "          google.colab.kernel.accessAllowed ? 'block' : 'none';\n",
              "\n",
              "        async function convertToInteractive(key) {\n",
              "          const element = document.querySelector('#df-cf4bc0e9-fc0d-406b-8f5a-761d2bb6c3f3');\n",
              "          const dataTable =\n",
              "            await google.colab.kernel.invokeFunction('convertToInteractive',\n",
              "                                                     [key], {});\n",
              "          if (!dataTable) return;\n",
              "\n",
              "          const docLinkHtml = 'Like what you see? Visit the ' +\n",
              "            '<a target=\"_blank\" href=https://colab.research.google.com/notebooks/data_table.ipynb>data table notebook</a>'\n",
              "            + ' to learn more about interactive tables.';\n",
              "          element.innerHTML = '';\n",
              "          dataTable['output_type'] = 'display_data';\n",
              "          await google.colab.output.renderOutput(dataTable, element);\n",
              "          const docLink = document.createElement('div');\n",
              "          docLink.innerHTML = docLinkHtml;\n",
              "          element.appendChild(docLink);\n",
              "        }\n",
              "      </script>\n",
              "    </div>\n",
              "  </div>\n",
              "  "
            ]
          },
          "metadata": {},
          "execution_count": 31
        }
      ]
    },
    {
      "cell_type": "code",
      "metadata": {
        "colab": {
          "base_uri": "https://localhost:8080/"
        },
        "id": "HR2XersJUIH2",
        "outputId": "b8349a15-165a-44bd-887d-15f3a10c7b06"
      },
      "source": [
        "iot_data.info()"
      ],
      "execution_count": 32,
      "outputs": [
        {
          "output_type": "stream",
          "name": "stdout",
          "text": [
            "<class 'pandas.core.frame.DataFrame'>\n",
            "DatetimeIndex: 30239 entries, 2022-12-15 10:37:33.724000 to 2022-12-15 14:54:59.449000\n",
            "Data columns (total 9 columns):\n",
            " #   Column   Non-Null Count  Dtype  \n",
            "---  ------   --------------  -----  \n",
            " 0   accel_x  30239 non-null  float64\n",
            " 1   accel_y  30239 non-null  float64\n",
            " 2   accel_z  30239 non-null  float64\n",
            " 3   gyro_x   30239 non-null  float64\n",
            " 4   gyro_y   30239 non-null  float64\n",
            " 5   gyro_z   30239 non-null  float64\n",
            " 6   mag_x    30239 non-null  float64\n",
            " 7   mag_y    30239 non-null  float64\n",
            " 8   mag_z    30239 non-null  float64\n",
            "dtypes: float64(9)\n",
            "memory usage: 2.3 MB\n"
          ]
        }
      ]
    },
    {
      "cell_type": "code",
      "metadata": {
        "id": "g1MtmghfiQk7"
      },
      "source": [
        "# Convert date index to Datetime index, 중요!!!\n",
        "iot_data.index = pd.to_datetime(iot_data.index)"
      ],
      "execution_count": 33,
      "outputs": []
    },
    {
      "cell_type": "code",
      "metadata": {
        "colab": {
          "base_uri": "https://localhost:8080/"
        },
        "id": "gY7QvLKbwlz5",
        "outputId": "8b72459a-0d0b-4de6-b402-bcfceb1ebe87"
      },
      "source": [
        "iot_data.info() # Range index -> timestamp(Datetime) index "
      ],
      "execution_count": 34,
      "outputs": [
        {
          "output_type": "stream",
          "name": "stdout",
          "text": [
            "<class 'pandas.core.frame.DataFrame'>\n",
            "DatetimeIndex: 30239 entries, 2022-12-15 10:37:33.724000 to 2022-12-15 14:54:59.449000\n",
            "Data columns (total 9 columns):\n",
            " #   Column   Non-Null Count  Dtype  \n",
            "---  ------   --------------  -----  \n",
            " 0   accel_x  30239 non-null  float64\n",
            " 1   accel_y  30239 non-null  float64\n",
            " 2   accel_z  30239 non-null  float64\n",
            " 3   gyro_x   30239 non-null  float64\n",
            " 4   gyro_y   30239 non-null  float64\n",
            " 5   gyro_z   30239 non-null  float64\n",
            " 6   mag_x    30239 non-null  float64\n",
            " 7   mag_y    30239 non-null  float64\n",
            " 8   mag_z    30239 non-null  float64\n",
            "dtypes: float64(9)\n",
            "memory usage: 2.3 MB\n"
          ]
        }
      ]
    },
    {
      "cell_type": "code",
      "metadata": {
        "colab": {
          "base_uri": "https://localhost:8080/",
          "height": 455
        },
        "id": "TDkJgBRJwl0D",
        "outputId": "7df79b5d-aaa5-4c58-c4ed-80b32218b573"
      },
      "source": [
        "# Estimate the mean of the iot data for every minute\n",
        "iot_data.resample('60S').mean()"
      ],
      "execution_count": 35,
      "outputs": [
        {
          "output_type": "execute_result",
          "data": {
            "text/plain": [
              "                      accel_x   accel_y   accel_z     gyro_x     gyro_y  \\\n",
              "date                                                                      \n",
              "2022-12-15 10:37:00  0.030000 -0.010000  0.990000  -0.209808  -3.557308   \n",
              "2022-12-15 10:38:00 -0.188898 -0.413898  0.164322  13.618898   6.464746   \n",
              "2022-12-15 10:39:00 -1.056949  0.154237  0.225932  -8.265424 -25.913983   \n",
              "2022-12-15 10:40:00 -0.502119  0.141186  0.332542  15.531525  11.551102   \n",
              "2022-12-15 10:41:00 -0.499322  0.028136  0.655424  -5.107034   5.616356   \n",
              "...                       ...       ...       ...        ...        ...   \n",
              "2022-12-15 14:50:00  0.033136 -0.002034  0.990000  -0.254153  -3.538475   \n",
              "2022-12-15 14:51:00  0.032881 -0.002034  0.990000  -0.231017  -3.496780   \n",
              "2022-12-15 14:52:00  0.033051 -0.002288  0.990000  -0.218220  -3.486102   \n",
              "2022-12-15 14:53:00  0.034322 -0.001949  0.990000  -0.233051  -3.456864   \n",
              "2022-12-15 14:54:00  0.033761 -0.002051  0.990000  -0.241197  -3.506667   \n",
              "\n",
              "                        gyro_z      mag_x      mag_y      mag_z  \n",
              "date                                                             \n",
              "2022-12-15 10:37:00  -0.279423 -11.958846  16.287692 -42.217885  \n",
              "2022-12-15 10:38:00  12.954153   2.220085  23.822458 -11.327034  \n",
              "2022-12-15 10:39:00 -26.685678 -11.120339   8.269661 -19.876525  \n",
              "2022-12-15 10:40:00 -14.099915  -4.763475  -1.187881 -22.533136  \n",
              "2022-12-15 10:41:00  -5.345508   6.075254   0.390000 -29.213475  \n",
              "...                        ...        ...        ...        ...  \n",
              "2022-12-15 14:50:00  -0.290424 -12.016186  -2.010593 -55.113559  \n",
              "2022-12-15 14:51:00  -0.285508 -11.865847  -1.868644 -55.193220  \n",
              "2022-12-15 14:52:00  -0.272203 -12.032119  -1.986017 -55.341695  \n",
              "2022-12-15 14:53:00  -0.290508 -12.093390  -2.104746 -55.431525  \n",
              "2022-12-15 14:54:00  -0.299145 -11.847521  -1.982650 -55.247863  \n",
              "\n",
              "[258 rows x 9 columns]"
            ],
            "text/html": [
              "\n",
              "  <div id=\"df-f0d2e7ec-5c0d-4eed-a1e9-7969a36d12b6\">\n",
              "    <div class=\"colab-df-container\">\n",
              "      <div>\n",
              "<style scoped>\n",
              "    .dataframe tbody tr th:only-of-type {\n",
              "        vertical-align: middle;\n",
              "    }\n",
              "\n",
              "    .dataframe tbody tr th {\n",
              "        vertical-align: top;\n",
              "    }\n",
              "\n",
              "    .dataframe thead th {\n",
              "        text-align: right;\n",
              "    }\n",
              "</style>\n",
              "<table border=\"1\" class=\"dataframe\">\n",
              "  <thead>\n",
              "    <tr style=\"text-align: right;\">\n",
              "      <th></th>\n",
              "      <th>accel_x</th>\n",
              "      <th>accel_y</th>\n",
              "      <th>accel_z</th>\n",
              "      <th>gyro_x</th>\n",
              "      <th>gyro_y</th>\n",
              "      <th>gyro_z</th>\n",
              "      <th>mag_x</th>\n",
              "      <th>mag_y</th>\n",
              "      <th>mag_z</th>\n",
              "    </tr>\n",
              "    <tr>\n",
              "      <th>date</th>\n",
              "      <th></th>\n",
              "      <th></th>\n",
              "      <th></th>\n",
              "      <th></th>\n",
              "      <th></th>\n",
              "      <th></th>\n",
              "      <th></th>\n",
              "      <th></th>\n",
              "      <th></th>\n",
              "    </tr>\n",
              "  </thead>\n",
              "  <tbody>\n",
              "    <tr>\n",
              "      <th>2022-12-15 10:37:00</th>\n",
              "      <td>0.030000</td>\n",
              "      <td>-0.010000</td>\n",
              "      <td>0.990000</td>\n",
              "      <td>-0.209808</td>\n",
              "      <td>-3.557308</td>\n",
              "      <td>-0.279423</td>\n",
              "      <td>-11.958846</td>\n",
              "      <td>16.287692</td>\n",
              "      <td>-42.217885</td>\n",
              "    </tr>\n",
              "    <tr>\n",
              "      <th>2022-12-15 10:38:00</th>\n",
              "      <td>-0.188898</td>\n",
              "      <td>-0.413898</td>\n",
              "      <td>0.164322</td>\n",
              "      <td>13.618898</td>\n",
              "      <td>6.464746</td>\n",
              "      <td>12.954153</td>\n",
              "      <td>2.220085</td>\n",
              "      <td>23.822458</td>\n",
              "      <td>-11.327034</td>\n",
              "    </tr>\n",
              "    <tr>\n",
              "      <th>2022-12-15 10:39:00</th>\n",
              "      <td>-1.056949</td>\n",
              "      <td>0.154237</td>\n",
              "      <td>0.225932</td>\n",
              "      <td>-8.265424</td>\n",
              "      <td>-25.913983</td>\n",
              "      <td>-26.685678</td>\n",
              "      <td>-11.120339</td>\n",
              "      <td>8.269661</td>\n",
              "      <td>-19.876525</td>\n",
              "    </tr>\n",
              "    <tr>\n",
              "      <th>2022-12-15 10:40:00</th>\n",
              "      <td>-0.502119</td>\n",
              "      <td>0.141186</td>\n",
              "      <td>0.332542</td>\n",
              "      <td>15.531525</td>\n",
              "      <td>11.551102</td>\n",
              "      <td>-14.099915</td>\n",
              "      <td>-4.763475</td>\n",
              "      <td>-1.187881</td>\n",
              "      <td>-22.533136</td>\n",
              "    </tr>\n",
              "    <tr>\n",
              "      <th>2022-12-15 10:41:00</th>\n",
              "      <td>-0.499322</td>\n",
              "      <td>0.028136</td>\n",
              "      <td>0.655424</td>\n",
              "      <td>-5.107034</td>\n",
              "      <td>5.616356</td>\n",
              "      <td>-5.345508</td>\n",
              "      <td>6.075254</td>\n",
              "      <td>0.390000</td>\n",
              "      <td>-29.213475</td>\n",
              "    </tr>\n",
              "    <tr>\n",
              "      <th>...</th>\n",
              "      <td>...</td>\n",
              "      <td>...</td>\n",
              "      <td>...</td>\n",
              "      <td>...</td>\n",
              "      <td>...</td>\n",
              "      <td>...</td>\n",
              "      <td>...</td>\n",
              "      <td>...</td>\n",
              "      <td>...</td>\n",
              "    </tr>\n",
              "    <tr>\n",
              "      <th>2022-12-15 14:50:00</th>\n",
              "      <td>0.033136</td>\n",
              "      <td>-0.002034</td>\n",
              "      <td>0.990000</td>\n",
              "      <td>-0.254153</td>\n",
              "      <td>-3.538475</td>\n",
              "      <td>-0.290424</td>\n",
              "      <td>-12.016186</td>\n",
              "      <td>-2.010593</td>\n",
              "      <td>-55.113559</td>\n",
              "    </tr>\n",
              "    <tr>\n",
              "      <th>2022-12-15 14:51:00</th>\n",
              "      <td>0.032881</td>\n",
              "      <td>-0.002034</td>\n",
              "      <td>0.990000</td>\n",
              "      <td>-0.231017</td>\n",
              "      <td>-3.496780</td>\n",
              "      <td>-0.285508</td>\n",
              "      <td>-11.865847</td>\n",
              "      <td>-1.868644</td>\n",
              "      <td>-55.193220</td>\n",
              "    </tr>\n",
              "    <tr>\n",
              "      <th>2022-12-15 14:52:00</th>\n",
              "      <td>0.033051</td>\n",
              "      <td>-0.002288</td>\n",
              "      <td>0.990000</td>\n",
              "      <td>-0.218220</td>\n",
              "      <td>-3.486102</td>\n",
              "      <td>-0.272203</td>\n",
              "      <td>-12.032119</td>\n",
              "      <td>-1.986017</td>\n",
              "      <td>-55.341695</td>\n",
              "    </tr>\n",
              "    <tr>\n",
              "      <th>2022-12-15 14:53:00</th>\n",
              "      <td>0.034322</td>\n",
              "      <td>-0.001949</td>\n",
              "      <td>0.990000</td>\n",
              "      <td>-0.233051</td>\n",
              "      <td>-3.456864</td>\n",
              "      <td>-0.290508</td>\n",
              "      <td>-12.093390</td>\n",
              "      <td>-2.104746</td>\n",
              "      <td>-55.431525</td>\n",
              "    </tr>\n",
              "    <tr>\n",
              "      <th>2022-12-15 14:54:00</th>\n",
              "      <td>0.033761</td>\n",
              "      <td>-0.002051</td>\n",
              "      <td>0.990000</td>\n",
              "      <td>-0.241197</td>\n",
              "      <td>-3.506667</td>\n",
              "      <td>-0.299145</td>\n",
              "      <td>-11.847521</td>\n",
              "      <td>-1.982650</td>\n",
              "      <td>-55.247863</td>\n",
              "    </tr>\n",
              "  </tbody>\n",
              "</table>\n",
              "<p>258 rows × 9 columns</p>\n",
              "</div>\n",
              "      <button class=\"colab-df-convert\" onclick=\"convertToInteractive('df-f0d2e7ec-5c0d-4eed-a1e9-7969a36d12b6')\"\n",
              "              title=\"Convert this dataframe to an interactive table.\"\n",
              "              style=\"display:none;\">\n",
              "        \n",
              "  <svg xmlns=\"http://www.w3.org/2000/svg\" height=\"24px\"viewBox=\"0 0 24 24\"\n",
              "       width=\"24px\">\n",
              "    <path d=\"M0 0h24v24H0V0z\" fill=\"none\"/>\n",
              "    <path d=\"M18.56 5.44l.94 2.06.94-2.06 2.06-.94-2.06-.94-.94-2.06-.94 2.06-2.06.94zm-11 1L8.5 8.5l.94-2.06 2.06-.94-2.06-.94L8.5 2.5l-.94 2.06-2.06.94zm10 10l.94 2.06.94-2.06 2.06-.94-2.06-.94-.94-2.06-.94 2.06-2.06.94z\"/><path d=\"M17.41 7.96l-1.37-1.37c-.4-.4-.92-.59-1.43-.59-.52 0-1.04.2-1.43.59L10.3 9.45l-7.72 7.72c-.78.78-.78 2.05 0 2.83L4 21.41c.39.39.9.59 1.41.59.51 0 1.02-.2 1.41-.59l7.78-7.78 2.81-2.81c.8-.78.8-2.07 0-2.86zM5.41 20L4 18.59l7.72-7.72 1.47 1.35L5.41 20z\"/>\n",
              "  </svg>\n",
              "      </button>\n",
              "      \n",
              "  <style>\n",
              "    .colab-df-container {\n",
              "      display:flex;\n",
              "      flex-wrap:wrap;\n",
              "      gap: 12px;\n",
              "    }\n",
              "\n",
              "    .colab-df-convert {\n",
              "      background-color: #E8F0FE;\n",
              "      border: none;\n",
              "      border-radius: 50%;\n",
              "      cursor: pointer;\n",
              "      display: none;\n",
              "      fill: #1967D2;\n",
              "      height: 32px;\n",
              "      padding: 0 0 0 0;\n",
              "      width: 32px;\n",
              "    }\n",
              "\n",
              "    .colab-df-convert:hover {\n",
              "      background-color: #E2EBFA;\n",
              "      box-shadow: 0px 1px 2px rgba(60, 64, 67, 0.3), 0px 1px 3px 1px rgba(60, 64, 67, 0.15);\n",
              "      fill: #174EA6;\n",
              "    }\n",
              "\n",
              "    [theme=dark] .colab-df-convert {\n",
              "      background-color: #3B4455;\n",
              "      fill: #D2E3FC;\n",
              "    }\n",
              "\n",
              "    [theme=dark] .colab-df-convert:hover {\n",
              "      background-color: #434B5C;\n",
              "      box-shadow: 0px 1px 3px 1px rgba(0, 0, 0, 0.15);\n",
              "      filter: drop-shadow(0px 1px 2px rgba(0, 0, 0, 0.3));\n",
              "      fill: #FFFFFF;\n",
              "    }\n",
              "  </style>\n",
              "\n",
              "      <script>\n",
              "        const buttonEl =\n",
              "          document.querySelector('#df-f0d2e7ec-5c0d-4eed-a1e9-7969a36d12b6 button.colab-df-convert');\n",
              "        buttonEl.style.display =\n",
              "          google.colab.kernel.accessAllowed ? 'block' : 'none';\n",
              "\n",
              "        async function convertToInteractive(key) {\n",
              "          const element = document.querySelector('#df-f0d2e7ec-5c0d-4eed-a1e9-7969a36d12b6');\n",
              "          const dataTable =\n",
              "            await google.colab.kernel.invokeFunction('convertToInteractive',\n",
              "                                                     [key], {});\n",
              "          if (!dataTable) return;\n",
              "\n",
              "          const docLinkHtml = 'Like what you see? Visit the ' +\n",
              "            '<a target=\"_blank\" href=https://colab.research.google.com/notebooks/data_table.ipynb>data table notebook</a>'\n",
              "            + ' to learn more about interactive tables.';\n",
              "          element.innerHTML = '';\n",
              "          dataTable['output_type'] = 'display_data';\n",
              "          await google.colab.output.renderOutput(dataTable, element);\n",
              "          const docLink = document.createElement('div');\n",
              "          docLink.innerHTML = docLinkHtml;\n",
              "          element.appendChild(docLink);\n",
              "        }\n",
              "      </script>\n",
              "    </div>\n",
              "  </div>\n",
              "  "
            ]
          },
          "metadata": {},
          "execution_count": 35
        }
      ]
    },
    {
      "cell_type": "code",
      "metadata": {
        "colab": {
          "base_uri": "https://localhost:8080/",
          "height": 366
        },
        "id": "pTaucOzzwl0H",
        "outputId": "b46ccd01-e908-46dc-8dcf-1055db43baf6"
      },
      "source": [
        "#  Plot mean of the all iot data per every minute\n",
        "iot_data.resample('60S').mean().plot(figsize=(8,5), \n",
        "                                     title='Minutely change of Acc, Gyro, Mag')\n",
        "plt.legend(bbox_to_anchor=(1.02, 1.0))"
      ],
      "execution_count": 36,
      "outputs": [
        {
          "output_type": "execute_result",
          "data": {
            "text/plain": [
              "<matplotlib.legend.Legend at 0x7f7fb8e6a1c0>"
            ]
          },
          "metadata": {},
          "execution_count": 36
        },
        {
          "output_type": "display_data",
          "data": {
            "text/plain": [
              "<Figure size 576x360 with 1 Axes>"
            ],
            "image/png": "[encoded data removed]"
          },
          "metadata": {
            "needs_background": "light"
          }
        }
      ]
    },
    {
      "cell_type": "markdown",
      "source": [
        "### [DIY-5]  아래 코드를 참조해서 Ay,Gy,My의 2분 평균값의 변화를 보여 주는 그래프를 그리시오."
      ],
      "metadata": {
        "id": "9z0suCUnyY2p"
      }
    },
    {
      "cell_type": "code",
      "metadata": {
        "colab": {
          "base_uri": "https://localhost:8080/",
          "height": 366
        },
        "id": "12Ydfv9ULNBl",
        "outputId": "98372000-43e5-4a9b-8b97-c1cdbedfc025"
      },
      "source": [
        "#  Plot mean of the iot data per every minute\n",
        "iot_data[['accel_y', 'gyro_y', 'mag_y']].resample('120S').mean().plot(figsize=(10,5), \n",
        "                                     title='Minutely change of R, G, B',\n",
        "                                     color=\"rgb\")"
      ],
      "execution_count": 37,
      "outputs": [
        {
          "output_type": "execute_result",
          "data": {
            "text/plain": [
              "<matplotlib.axes._subplots.AxesSubplot at 0x7f7fb8c50580>"
            ]
          },
          "metadata": {},
          "execution_count": 37
        },
        {
          "output_type": "display_data",
          "data": {
            "text/plain": [
              "<Figure size 720x360 with 1 Axes>"
            ],
            "image/png": "[encoded data removed]"
          },
          "metadata": {
            "needs_background": "light"
          }
        }
      ]
    },
    {
      "cell_type": "markdown",
      "source": [
        "### 시간 평균 변화화"
      ],
      "metadata": {
        "id": "e4BFrgsR0EUM"
      }
    },
    {
      "cell_type": "code",
      "metadata": {
        "colab": {
          "base_uri": "https://localhost:8080/",
          "height": 238
        },
        "id": "cMHVdg3awl0M",
        "outputId": "6c98d16f-1db0-4a73-9ca2-752feed376a8"
      },
      "source": [
        "# Estimate the mean of iot data for every hour\n",
        "iot_data.resample('H').mean()  # mean per each hour"
      ],
      "execution_count": 38,
      "outputs": [
        {
          "output_type": "execute_result",
          "data": {
            "text/plain": [
              "                      accel_x   accel_y   accel_z    gyro_x    gyro_y  \\\n",
              "date                                                                    \n",
              "2022-12-15 10:00:00 -0.320563  0.076382  0.579894  1.693323 -2.134076   \n",
              "2022-12-15 11:00:00  0.002012 -0.000222  0.967131 -0.238344 -3.671893   \n",
              "2022-12-15 12:00:00  0.024788 -0.005139  0.977710 -0.122556 -3.427648   \n",
              "2022-12-15 13:00:00  0.024613 -0.036221  0.957138 -0.111117 -2.655848   \n",
              "2022-12-15 14:00:00  0.034654 -0.002446  0.990002 -0.260759 -3.520143   \n",
              "\n",
              "                       gyro_z      mag_x      mag_y      mag_z  \n",
              "date                                                            \n",
              "2022-12-15 10:00:00 -3.226756  -7.121592   0.531032 -29.040688  \n",
              "2022-12-15 11:00:00 -0.307642  -7.015582  -6.014492 -45.789966  \n",
              "2022-12-15 12:00:00 -0.323146   6.402508   1.514480 -48.794594  \n",
              "2022-12-15 13:00:00  0.802740  -0.487884  15.834458 -61.563330  \n",
              "2022-12-15 14:00:00 -0.304609 -11.670048  -1.859190 -55.187680  "
            ],
            "text/html": [
              "\n",
              "  <div id=\"df-43b77e72-efb6-42c1-b4ad-05a56e6fd73a\">\n",
              "    <div class=\"colab-df-container\">\n",
              "      <div>\n",
              "<style scoped>\n",
              "    .dataframe tbody tr th:only-of-type {\n",
              "        vertical-align: middle;\n",
              "    }\n",
              "\n",
              "    .dataframe tbody tr th {\n",
              "        vertical-align: top;\n",
              "    }\n",
              "\n",
              "    .dataframe thead th {\n",
              "        text-align: right;\n",
              "    }\n",
              "</style>\n",
              "<table border=\"1\" class=\"dataframe\">\n",
              "  <thead>\n",
              "    <tr style=\"text-align: right;\">\n",
              "      <th></th>\n",
              "      <th>accel_x</th>\n",
              "      <th>accel_y</th>\n",
              "      <th>accel_z</th>\n",
              "      <th>gyro_x</th>\n",
              "      <th>gyro_y</th>\n",
              "      <th>gyro_z</th>\n",
              "      <th>mag_x</th>\n",
              "      <th>mag_y</th>\n",
              "      <th>mag_z</th>\n",
              "    </tr>\n",
              "    <tr>\n",
              "      <th>date</th>\n",
              "      <th></th>\n",
              "      <th></th>\n",
              "      <th></th>\n",
              "      <th></th>\n",
              "      <th></th>\n",
              "      <th></th>\n",
              "      <th></th>\n",
              "      <th></th>\n",
              "      <th></th>\n",
              "    </tr>\n",
              "  </thead>\n",
              "  <tbody>\n",
              "    <tr>\n",
              "      <th>2022-12-15 10:00:00</th>\n",
              "      <td>-0.320563</td>\n",
              "      <td>0.076382</td>\n",
              "      <td>0.579894</td>\n",
              "      <td>1.693323</td>\n",
              "      <td>-2.134076</td>\n",
              "      <td>-3.226756</td>\n",
              "      <td>-7.121592</td>\n",
              "      <td>0.531032</td>\n",
              "      <td>-29.040688</td>\n",
              "    </tr>\n",
              "    <tr>\n",
              "      <th>2022-12-15 11:00:00</th>\n",
              "      <td>0.002012</td>\n",
              "      <td>-0.000222</td>\n",
              "      <td>0.967131</td>\n",
              "      <td>-0.238344</td>\n",
              "      <td>-3.671893</td>\n",
              "      <td>-0.307642</td>\n",
              "      <td>-7.015582</td>\n",
              "      <td>-6.014492</td>\n",
              "      <td>-45.789966</td>\n",
              "    </tr>\n",
              "    <tr>\n",
              "      <th>2022-12-15 12:00:00</th>\n",
              "      <td>0.024788</td>\n",
              "      <td>-0.005139</td>\n",
              "      <td>0.977710</td>\n",
              "      <td>-0.122556</td>\n",
              "      <td>-3.427648</td>\n",
              "      <td>-0.323146</td>\n",
              "      <td>6.402508</td>\n",
              "      <td>1.514480</td>\n",
              "      <td>-48.794594</td>\n",
              "    </tr>\n",
              "    <tr>\n",
              "      <th>2022-12-15 13:00:00</th>\n",
              "      <td>0.024613</td>\n",
              "      <td>-0.036221</td>\n",
              "      <td>0.957138</td>\n",
              "      <td>-0.111117</td>\n",
              "      <td>-2.655848</td>\n",
              "      <td>0.802740</td>\n",
              "      <td>-0.487884</td>\n",
              "      <td>15.834458</td>\n",
              "      <td>-61.563330</td>\n",
              "    </tr>\n",
              "    <tr>\n",
              "      <th>2022-12-15 14:00:00</th>\n",
              "      <td>0.034654</td>\n",
              "      <td>-0.002446</td>\n",
              "      <td>0.990002</td>\n",
              "      <td>-0.260759</td>\n",
              "      <td>-3.520143</td>\n",
              "      <td>-0.304609</td>\n",
              "      <td>-11.670048</td>\n",
              "      <td>-1.859190</td>\n",
              "      <td>-55.187680</td>\n",
              "    </tr>\n",
              "  </tbody>\n",
              "</table>\n",
              "</div>\n",
              "      <button class=\"colab-df-convert\" onclick=\"convertToInteractive('df-43b77e72-efb6-42c1-b4ad-05a56e6fd73a')\"\n",
              "              title=\"Convert this dataframe to an interactive table.\"\n",
              "              style=\"display:none;\">\n",
              "        \n",
              "  <svg xmlns=\"http://www.w3.org/2000/svg\" height=\"24px\"viewBox=\"0 0 24 24\"\n",
              "       width=\"24px\">\n",
              "    <path d=\"M0 0h24v24H0V0z\" fill=\"none\"/>\n",
              "    <path d=\"M18.56 5.44l.94 2.06.94-2.06 2.06-.94-2.06-.94-.94-2.06-.94 2.06-2.06.94zm-11 1L8.5 8.5l.94-2.06 2.06-.94-2.06-.94L8.5 2.5l-.94 2.06-2.06.94zm10 10l.94 2.06.94-2.06 2.06-.94-2.06-.94-.94-2.06-.94 2.06-2.06.94z\"/><path d=\"M17.41 7.96l-1.37-1.37c-.4-.4-.92-.59-1.43-.59-.52 0-1.04.2-1.43.59L10.3 9.45l-7.72 7.72c-.78.78-.78 2.05 0 2.83L4 21.41c.39.39.9.59 1.41.59.51 0 1.02-.2 1.41-.59l7.78-7.78 2.81-2.81c.8-.78.8-2.07 0-2.86zM5.41 20L4 18.59l7.72-7.72 1.47 1.35L5.41 20z\"/>\n",
              "  </svg>\n",
              "      </button>\n",
              "      \n",
              "  <style>\n",
              "    .colab-df-container {\n",
              "      display:flex;\n",
              "      flex-wrap:wrap;\n",
              "      gap: 12px;\n",
              "    }\n",
              "\n",
              "    .colab-df-convert {\n",
              "      background-color: #E8F0FE;\n",
              "      border: none;\n",
              "      border-radius: 50%;\n",
              "      cursor: pointer;\n",
              "      display: none;\n",
              "      fill: #1967D2;\n",
              "      height: 32px;\n",
              "      padding: 0 0 0 0;\n",
              "      width: 32px;\n",
              "    }\n",
              "\n",
              "    .colab-df-convert:hover {\n",
              "      background-color: #E2EBFA;\n",
              "      box-shadow: 0px 1px 2px rgba(60, 64, 67, 0.3), 0px 1px 3px 1px rgba(60, 64, 67, 0.15);\n",
              "      fill: #174EA6;\n",
              "    }\n",
              "\n",
              "    [theme=dark] .colab-df-convert {\n",
              "      background-color: #3B4455;\n",
              "      fill: #D2E3FC;\n",
              "    }\n",
              "\n",
              "    [theme=dark] .colab-df-convert:hover {\n",
              "      background-color: #434B5C;\n",
              "      box-shadow: 0px 1px 3px 1px rgba(0, 0, 0, 0.15);\n",
              "      filter: drop-shadow(0px 1px 2px rgba(0, 0, 0, 0.3));\n",
              "      fill: #FFFFFF;\n",
              "    }\n",
              "  </style>\n",
              "\n",
              "      <script>\n",
              "        const buttonEl =\n",
              "          document.querySelector('#df-43b77e72-efb6-42c1-b4ad-05a56e6fd73a button.colab-df-convert');\n",
              "        buttonEl.style.display =\n",
              "          google.colab.kernel.accessAllowed ? 'block' : 'none';\n",
              "\n",
              "        async function convertToInteractive(key) {\n",
              "          const element = document.querySelector('#df-43b77e72-efb6-42c1-b4ad-05a56e6fd73a');\n",
              "          const dataTable =\n",
              "            await google.colab.kernel.invokeFunction('convertToInteractive',\n",
              "                                                     [key], {});\n",
              "          if (!dataTable) return;\n",
              "\n",
              "          const docLinkHtml = 'Like what you see? Visit the ' +\n",
              "            '<a target=\"_blank\" href=https://colab.research.google.com/notebooks/data_table.ipynb>data table notebook</a>'\n",
              "            + ' to learn more about interactive tables.';\n",
              "          element.innerHTML = '';\n",
              "          dataTable['output_type'] = 'display_data';\n",
              "          await google.colab.output.renderOutput(dataTable, element);\n",
              "          const docLink = document.createElement('div');\n",
              "          docLink.innerHTML = docLinkHtml;\n",
              "          element.appendChild(docLink);\n",
              "        }\n",
              "      </script>\n",
              "    </div>\n",
              "  </div>\n",
              "  "
            ]
          },
          "metadata": {},
          "execution_count": 38
        }
      ]
    },
    {
      "cell_type": "code",
      "metadata": {
        "colab": {
          "base_uri": "https://localhost:8080/"
        },
        "id": "44z_H8_DPqIV",
        "outputId": "81f1b0c1-9255-48e3-cba1-3305a4b555e7"
      },
      "source": [
        "iot_data.resample('H').mean().shape, iot_data.resample('H').mean().info()"
      ],
      "execution_count": 39,
      "outputs": [
        {
          "output_type": "stream",
          "name": "stdout",
          "text": [
            "<class 'pandas.core.frame.DataFrame'>\n",
            "DatetimeIndex: 5 entries, 2022-12-15 10:00:00 to 2022-12-15 14:00:00\n",
            "Freq: H\n",
            "Data columns (total 9 columns):\n",
            " #   Column   Non-Null Count  Dtype  \n",
            "---  ------   --------------  -----  \n",
            " 0   accel_x  5 non-null      float64\n",
            " 1   accel_y  5 non-null      float64\n",
            " 2   accel_z  5 non-null      float64\n",
            " 3   gyro_x   5 non-null      float64\n",
            " 4   gyro_y   5 non-null      float64\n",
            " 5   gyro_z   5 non-null      float64\n",
            " 6   mag_x    5 non-null      float64\n",
            " 7   mag_y    5 non-null      float64\n",
            " 8   mag_z    5 non-null      float64\n",
            "dtypes: float64(9)\n",
            "memory usage: 400.0 bytes\n"
          ]
        },
        {
          "output_type": "execute_result",
          "data": {
            "text/plain": [
              "((5, 9), None)"
            ]
          },
          "metadata": {},
          "execution_count": 39
        }
      ]
    },
    {
      "cell_type": "code",
      "metadata": {
        "colab": {
          "base_uri": "https://localhost:8080/",
          "height": 135
        },
        "id": "7zNu8qnxwl0Q",
        "outputId": "7c58af98-93b2-49b4-b832-cfe615f21b4e"
      },
      "source": [
        "#  Plot mean of the iot data per every hour \n",
        "iot_data.resample('H').mean().plot(figsize=(10,6), '-o'\n",
        "                                   title='Hourly change of all sensor data') #, \n",
        "                                #    ylim=[0,500])"
      ],
      "execution_count": 40,
      "outputs": [
        {
          "output_type": "error",
          "ename": "SyntaxError",
          "evalue": "ignored",
          "traceback": [
            "\u001b[0;36m  File \u001b[0;32m\"<ipython-input-40-a0507f8b1f52>\"\u001b[0;36m, line \u001b[0;32m3\u001b[0m\n\u001b[0;31m    title='Hourly change of all sensor data') #,\u001b[0m\n\u001b[0m    ^\u001b[0m\n\u001b[0;31mSyntaxError\u001b[0m\u001b[0;31m:\u001b[0m invalid syntax\n"
          ]
        }
      ]
    },
    {
      "cell_type": "markdown",
      "source": [
        "### [DIY-6]  아래 코드를 참조해서 Az,Gz,Mz의 1 시간 평균값의 변화를 보여 주는 그래프를 그리시오."
      ],
      "metadata": {
        "id": "SF4Jmw4Zzy6v"
      }
    },
    {
      "cell_type": "code",
      "metadata": {
        "colab": {
          "base_uri": "https://localhost:8080/",
          "height": 422
        },
        "id": "QXDpqM0IMSho",
        "outputId": "1a6e0221-e0b6-40c8-8218-e1c6401de6e2"
      },
      "source": [
        "#  Plot mean of the iot data per every minute\n",
        "iot_data[['accel_z','gyro_z','mag_z']].resample('H').mean().plot(figsize=(10,6), \n",
        "                                    color = ['red', 'green', 'blue'],\n",
        "                                    title='Hourly change of Az, Gz, Mz')"
      ],
      "execution_count": 41,
      "outputs": [
        {
          "output_type": "execute_result",
          "data": {
            "text/plain": [
              "<matplotlib.axes._subplots.AxesSubplot at 0x7f7fb8ae0d00>"
            ]
          },
          "metadata": {},
          "execution_count": 41
        },
        {
          "output_type": "display_data",
          "data": {
            "text/plain": [
              "<Figure size 720x432 with 1 Axes>"
            ],
            "image/png": "[encoded data removed]"
          },
          "metadata": {
            "needs_background": "light"
          }
        }
      ]
    },
    {
      "cell_type": "markdown",
      "source": [
        "### Good Job!  Have a great winter vacation!!!"
      ],
      "metadata": {
        "id": "_ZgNafGZ0fsV"
      }
    },
    {
      "cell_type": "markdown",
      "source": [
        "----"
      ],
      "metadata": {
        "id": "8BcJ8Xlz0tbd"
      }
    },
    {
      "cell_type": "code",
      "source": [],
      "metadata": {
        "id": "4mmCP2TU0u1T"
      },
      "execution_count": null,
      "outputs": []
    }
  ]
}